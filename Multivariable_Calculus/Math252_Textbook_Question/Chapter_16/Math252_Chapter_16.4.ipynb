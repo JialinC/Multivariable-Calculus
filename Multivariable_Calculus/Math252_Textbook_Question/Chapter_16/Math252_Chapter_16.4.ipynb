{
 "cells": [
  {
   "cell_type": "markdown",
   "metadata": {},
   "source": [
    "Example.1"
   ]
  },
  {
   "cell_type": "code",
   "execution_count": 49,
   "metadata": {},
   "outputs": [
    {
     "name": "stdout",
     "output_type": "stream",
     "text": [
      "1/6\n"
     ]
    }
   ],
   "source": [
    "import sympy as sp\n",
    "x,y = sp.symbols(\"x y\")\n",
    "P = x**4\n",
    "Q = x*y\n",
    "f = sp.diff(Q,x)-sp.diff(P,y)\n",
    "ans = sp.integrate(sp.integrate(f,(y,0,1-x)),(x,0,1))\n",
    "print(ans)"
   ]
  },
  {
   "cell_type": "markdown",
   "metadata": {},
   "source": [
    "Example.2"
   ]
  },
  {
   "cell_type": "code",
   "execution_count": 50,
   "metadata": {},
   "outputs": [
    {
     "name": "stdout",
     "output_type": "stream",
     "text": [
      "36*pi\n"
     ]
    }
   ],
   "source": [
    "x,y,r,theta = sp.symbols(\"x y r theta\")\n",
    "P = 3*y - sp.exp(sp.sin(x))\n",
    "Q = 7*x + sp.sqrt(y**4+1)\n",
    "f = sp.diff(Q,x)-sp.diff(P,y)\n",
    "ans = sp.integrate(sp.integrate(f*r,(r,0,3)),(theta,0,2*sp.pi))\n",
    "print(ans)"
   ]
  },
  {
   "cell_type": "markdown",
   "metadata": {},
   "source": [
    "Example.3"
   ]
  },
  {
   "cell_type": "code",
   "execution_count": 51,
   "metadata": {},
   "outputs": [
    {
     "name": "stdout",
     "output_type": "stream",
     "text": [
      "1.0*pi*a*b\n"
     ]
    }
   ],
   "source": [
    "a,b,t = sp.symbols(\"a b t\")\n",
    "x = a*sp.cos(t)\n",
    "y = b*sp.sin(t)\n",
    "f = x*sp.diff(y,t)-y*sp.diff(x,t)\n",
    "ans = 1/2*sp.integrate(f,(t,0,2*sp.pi))\n",
    "print(ans)"
   ]
  },
  {
   "cell_type": "markdown",
   "metadata": {},
   "source": [
    "Example.4"
   ]
  },
  {
   "cell_type": "code",
   "execution_count": 52,
   "metadata": {},
   "outputs": [
    {
     "name": "stdout",
     "output_type": "stream",
     "text": [
      "14/3\n"
     ]
    }
   ],
   "source": [
    "x,y,r,theta = sp.symbols(\"x y r theta\")\n",
    "P = y**2\n",
    "Q = 3*x*y\n",
    "f = sp.diff(Q,x)-sp.diff(P,y)\n",
    "f = f.subs(y,r*sp.sin(theta))\n",
    "ans = sp.integrate(sp.integrate(f*r,(r,1,2)),(theta,0,sp.pi))\n",
    "print(ans)"
   ]
  },
  {
   "cell_type": "markdown",
   "metadata": {},
   "source": [
    "Example.5"
   ]
  },
  {
   "cell_type": "code",
   "execution_count": 53,
   "metadata": {},
   "outputs": [
    {
     "name": "stdout",
     "output_type": "stream",
     "text": [
      "0\n",
      "2*pi\n"
     ]
    }
   ],
   "source": [
    "from sympy.physics.vector import *\n",
    "x,y,dA = sp.symbols(\"x y dA\")\n",
    "P = -y/(x**2+y**2)\n",
    "Q = x/(x**2+y**2)\n",
    "f = sp.diff(Q,x)-sp.diff(P,y)\n",
    "fc=sp.simplify(sp.integrate(f,dA))\n",
    "print(fc)\n",
    "R = ReferenceFrame('R')\n",
    "x = a*sp.cos(t)\n",
    "y = a*sp.sin(t)\n",
    "F = -y/(x**2+y**2)*R.x+x/(x**2+y**2)*R.y\n",
    "r = a*sp.cos(t)*R.x + a*sp.sin(t)*R.y\n",
    "rdt = r.diff(t,R)\n",
    "ans = sp.integrate(F.dot(rdt),(t,0,2*sp.pi))\n",
    "print(ans)"
   ]
  },
  {
   "cell_type": "code",
   "execution_count": null,
   "metadata": {
    "collapsed": true
   },
   "outputs": [],
   "source": []
  }
 ],
 "metadata": {
  "kernelspec": {
   "display_name": "Python 3",
   "language": "python",
   "name": "python3"
  },
  "language_info": {
   "codemirror_mode": {
    "name": "ipython",
    "version": 3
   },
   "file_extension": ".py",
   "mimetype": "text/x-python",
   "name": "python",
   "nbconvert_exporter": "python",
   "pygments_lexer": "ipython3",
   "version": "3.6.3"
  }
 },
 "nbformat": 4,
 "nbformat_minor": 2
}
