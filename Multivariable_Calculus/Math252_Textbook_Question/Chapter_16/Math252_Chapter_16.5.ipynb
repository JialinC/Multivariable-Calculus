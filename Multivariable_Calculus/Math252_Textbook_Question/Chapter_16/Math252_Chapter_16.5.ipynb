{
 "cells": [
  {
   "cell_type": "markdown",
   "metadata": {},
   "source": [
    "Example.1"
   ]
  },
  {
   "cell_type": "code",
   "execution_count": 20,
   "metadata": {},
   "outputs": [
    {
     "name": "stdout",
     "output_type": "stream",
     "text": [
      "(-R_x*R_y - 2*R_y)*R.x + R_x*R.y + R_y*R_z*R.z\n"
     ]
    }
   ],
   "source": [
    "from sympy.physics.vector import *\n",
    "R = ReferenceFrame('R')\n",
    "F = R[0]*R[2]*R.x + R[0]*R[1]*R[2]*R.y - R[1]**2*R.z\n",
    "curlF = curl(F,R)\n",
    "print(curlF)"
   ]
  },
  {
   "cell_type": "markdown",
   "metadata": {},
   "source": [
    "Example.2"
   ]
  },
  {
   "cell_type": "code",
   "execution_count": 21,
   "metadata": {},
   "outputs": [
    {
     "name": "stdout",
     "output_type": "stream",
     "text": [
      "F is not conservative\n"
     ]
    }
   ],
   "source": [
    "F = R[0]*R[2]*R.x + R[0]*R[1]*R[2]*R.y - R[1]**2*R.z\n",
    "curlF = curl(F,R)\n",
    "if curlF == 0:\n",
    "    print(\"F is conservative\")\n",
    "else:\n",
    "    print(\"F is not conservative\")"
   ]
  },
  {
   "cell_type": "markdown",
   "metadata": {},
   "source": [
    "Example.3"
   ]
  },
  {
   "cell_type": "code",
   "execution_count": 22,
   "metadata": {},
   "outputs": [
    {
     "name": "stdout",
     "output_type": "stream",
     "text": [
      "F is conservative\n",
      "K + x*y**2*z**3\n"
     ]
    }
   ],
   "source": [
    "import sympy as sp\n",
    "x,y,z,K = sp.symbols(\"x y z K\")\n",
    "#a\n",
    "F = R[1]**2*R[2]**3*R.x + 2*R[0]*R[1]*R[2]**3*R.y + 3*R[0]*R[1]**2*R[2]**2*R.z\n",
    "curlF = curl(F,R)\n",
    "if curlF == 0:\n",
    "    print(\"F is conservative\")\n",
    "else:\n",
    "    print(\"F is not conservative\")\n",
    "#b\n",
    "fx = y**2*z**3\n",
    "fy = 2*x*y*z**3\n",
    "fz = 3*x*y**2*z**2\n",
    "f = sp.integrate(fx,x)\n",
    "gy = fy - sp.diff(f,y)\n",
    "g = sp.integrate(gy,y)\n",
    "hz = fz - sp.diff(f,z)\n",
    "h = sp.integrate(hz,z) + K\n",
    "ans = f + g + h\n",
    "print(ans)"
   ]
  },
  {
   "cell_type": "markdown",
   "metadata": {},
   "source": [
    "Example.4"
   ]
  },
  {
   "cell_type": "code",
   "execution_count": 23,
   "metadata": {},
   "outputs": [
    {
     "name": "stdout",
     "output_type": "stream",
     "text": [
      "R_x*R_z + R_z\n"
     ]
    }
   ],
   "source": [
    "F = R[0]*R[2]*R.x + R[0]*R[1]*R[2]*R.y - R[1]**2*R.z\n",
    "div = divergence(F,R)\n",
    "print(div)"
   ]
  },
  {
   "cell_type": "code",
   "execution_count": null,
   "metadata": {
    "collapsed": true
   },
   "outputs": [],
   "source": []
  }
 ],
 "metadata": {
  "kernelspec": {
   "display_name": "Python 3",
   "language": "python",
   "name": "python3"
  },
  "language_info": {
   "codemirror_mode": {
    "name": "ipython",
    "version": 3
   },
   "file_extension": ".py",
   "mimetype": "text/x-python",
   "name": "python",
   "nbconvert_exporter": "python",
   "pygments_lexer": "ipython3",
   "version": "3.6.3"
  }
 },
 "nbformat": 4,
 "nbformat_minor": 2
}
