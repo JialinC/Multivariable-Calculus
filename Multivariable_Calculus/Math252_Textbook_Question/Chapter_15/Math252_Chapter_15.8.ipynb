{
 "cells": [
  {
   "cell_type": "markdown",
   "metadata": {},
   "source": [
    "Example.3"
   ]
  },
  {
   "cell_type": "code",
   "execution_count": 1,
   "metadata": {},
   "outputs": [
    {
     "name": "stdout",
     "output_type": "stream",
     "text": [
      "12*pi*K/5\n"
     ]
    }
   ],
   "source": [
    "import sympy as sp\n",
    "x,y,z,K,r,theta = sp.symbols(\"x y z K r theta\")\n",
    "x=r*sp.cos(theta)\n",
    "y=r*sp.sin(theta)\n",
    "f=K*sp.sqrt(x**2+y**2)\n",
    "result=sp.integrate(sp.integrate(sp.integrate(f*r,(z,1-r**2,4)),(r,0,1)),(theta,0,2*sp.pi))\n",
    "print(result)"
   ]
  },
  {
   "cell_type": "markdown",
   "metadata": {},
   "source": [
    "Example.4"
   ]
  },
  {
   "cell_type": "code",
   "execution_count": 2,
   "metadata": {},
   "outputs": [
    {
     "name": "stdout",
     "output_type": "stream",
     "text": [
      "16*pi/5\n"
     ]
    }
   ],
   "source": [
    "result=sp.integrate(sp.integrate(sp.integrate(r**2*r,(z,r,2)),(r,0,2)),(theta,0,2*sp.pi))\n",
    "print(result)"
   ]
  },
  {
   "cell_type": "code",
   "execution_count": null,
   "metadata": {
    "collapsed": true
   },
   "outputs": [],
   "source": []
  }
 ],
 "metadata": {
  "kernelspec": {
   "display_name": "Python 3",
   "language": "python",
   "name": "python3"
  },
  "language_info": {
   "codemirror_mode": {
    "name": "ipython",
    "version": 3
   },
   "file_extension": ".py",
   "mimetype": "text/x-python",
   "name": "python",
   "nbconvert_exporter": "python",
   "pygments_lexer": "ipython3",
   "version": "3.6.3"
  }
 },
 "nbformat": 4,
 "nbformat_minor": 2
}
