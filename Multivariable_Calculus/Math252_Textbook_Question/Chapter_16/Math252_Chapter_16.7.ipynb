{
 "cells": [
  {
   "cell_type": "markdown",
   "metadata": {},
   "source": [
    "Example.1"
   ]
  },
  {
   "cell_type": "code",
   "execution_count": 79,
   "metadata": {},
   "outputs": [
    {
     "name": "stdout",
     "output_type": "stream",
     "text": [
      "4*pi/3\n"
     ]
    }
   ],
   "source": [
    "import sympy as sp\n",
    "from sympy.physics.vector import *\n",
    "R = ReferenceFrame('R')\n",
    "x,y,z,theta,phi,a = sp.symbols(\"x y z theta phi a\")\n",
    "x = sp.sin(phi)*sp.cos(theta)\n",
    "y = sp.sin(phi)*sp.sin(theta)\n",
    "z = sp.cos(phi)\n",
    "r = x*R.x + y*R.y + z*R.z\n",
    "rdphi = r.diff(phi,R)\n",
    "rdtheta = r.diff(theta,R)\n",
    "magnitude = sp.simplify(rdphi.cross(rdtheta).magnitude())\n",
    "integrate = sp.integrate(sp.integrate(magnitude*x**2,(phi,0,sp.pi)),(theta,0,2*sp.pi))\n",
    "print(integrate)"
   ]
  },
  {
   "cell_type": "markdown",
   "metadata": {},
   "source": [
    "Example.2"
   ]
  },
  {
   "cell_type": "code",
   "execution_count": 80,
   "metadata": {},
   "outputs": [
    {
     "name": "stdout",
     "output_type": "stream",
     "text": [
      "13*sqrt(2)/3\n"
     ]
    }
   ],
   "source": [
    "x,y,z = sp.symbols(\"x y z\")\n",
    "z = x + y**2\n",
    "zx =sp.diff(z,x)\n",
    "zy =sp.diff(z,y)\n",
    "f=y*sp.sqrt(1+zx**2+zy**2)\n",
    "ans = sp.integrate(sp.integrate(f,(y,0,2)),(x,0,1))\n",
    "print(ans)"
   ]
  },
  {
   "cell_type": "markdown",
   "metadata": {},
   "source": [
    "Example.3"
   ]
  },
  {
   "cell_type": "code",
   "execution_count": 81,
   "metadata": {},
   "outputs": [
    {
     "name": "stdout",
     "output_type": "stream",
     "text": [
      "sqrt(2)*pi + 3*pi/2\n"
     ]
    }
   ],
   "source": [
    "#first part S1\n",
    "x,y,z,theta,phi,a = sp.symbols(\"x y z theta phi a\")\n",
    "x = sp.cos(theta)\n",
    "y = sp.sin(theta)\n",
    "z = z\n",
    "r = x*R.x + y*R.y + z*R.z\n",
    "rdz = r.diff(z,R)\n",
    "rdtheta = r.diff(theta,R)\n",
    "magnitude = sp.simplify(rdz.cross(rdtheta).magnitude())\n",
    "intS1= sp.integrate(sp.integrate(magnitude*z,(z,0,1+sp.cos(theta))),(theta,0,2*sp.pi))\n",
    "#second part S2 and S3\n",
    "intS2 = 0\n",
    "x,y,z,r = sp.symbols(\"x y z r\")\n",
    "z = x + 1\n",
    "zx =sp.diff(z,x)\n",
    "zy =sp.diff(z,y)\n",
    "f=z*sp.sqrt(1+zx**2+zy**2)\n",
    "f = f.subs([[x,r*sp.cos(theta)],[y,r*sp.sin(theta)]])\n",
    "intS3 = sp.integrate(sp.integrate(f*r,(r,0,1)),(theta,0,2*sp.pi))\n",
    "ans = intS1+intS2+intS3\n",
    "print(ans)\n"
   ]
  },
  {
   "cell_type": "markdown",
   "metadata": {},
   "source": [
    "Example.4"
   ]
  },
  {
   "cell_type": "code",
   "execution_count": 82,
   "metadata": {},
   "outputs": [
    {
     "name": "stdout",
     "output_type": "stream",
     "text": [
      "4*pi/3\n"
     ]
    }
   ],
   "source": [
    "x,y,z,theta,phi,a = sp.symbols(\"x y z theta phi a\")\n",
    "x = sp.sin(phi)*sp.cos(theta)\n",
    "y = sp.sin(phi)*sp.sin(theta)\n",
    "z = sp.cos(phi)\n",
    "r = x*R.x + y*R.y + z*R.z\n",
    "F = z*R.x + y*R.y + x*R.z\n",
    "rdphi = r.diff(phi,R)\n",
    "rdtheta = r.diff(theta,R)\n",
    "cross = rdphi.cross(rdtheta)\n",
    "integrate = sp.integrate(sp.integrate(F.dot(cross),(phi,0,sp.pi)),(theta,0,2*sp.pi))\n",
    "print(integrate)"
   ]
  },
  {
   "cell_type": "markdown",
   "metadata": {},
   "source": [
    "Example.5"
   ]
  },
  {
   "cell_type": "code",
   "execution_count": 83,
   "metadata": {},
   "outputs": [
    {
     "name": "stdout",
     "output_type": "stream",
     "text": [
      "pi/2\n"
     ]
    }
   ],
   "source": [
    "#S1\n",
    "x,y,z,theta,r,dA = sp.symbols(\"x y z theta r dA\")\n",
    "P = y\n",
    "Q = x\n",
    "R = 1 - x**2 - y**2\n",
    "gx = sp.diff(R,x)\n",
    "gy = sp.diff(R,y)\n",
    "f = -P*gx - Q*gy + R\n",
    "f = f.subs([[x,r*sp.cos(theta)],[y,r*sp.sin(theta)]])\n",
    "intS1 = sp.integrate(sp.integrate(f*r,(r,0,1)),(theta,0,2*sp.pi))\n",
    "#S2\n",
    "R = ReferenceFrame('R')\n",
    "x,y,z,A= sp.symbols(\"x y z A\")\n",
    "F = y*R.x + z*R.y + z*R.z\n",
    "A = F.dot(-R.z)\n",
    "A = A.subs(z,0)\n",
    "intS2 = sp.integrate(A,dA)\n",
    "ans = intS1 + intS2\n",
    "print(ans)"
   ]
  },
  {
   "cell_type": "markdown",
   "metadata": {},
   "source": [
    "Example.6"
   ]
  },
  {
   "cell_type": "code",
   "execution_count": 84,
   "metadata": {},
   "outputs": [
    {
     "name": "stdout",
     "output_type": "stream",
     "text": [
      "8*pi*C*K*(R_x**2 + R_y**2 + R_z**2)**(3/2)\n"
     ]
    }
   ],
   "source": [
    "from sympy.physics.vector import *\n",
    "R = ReferenceFrame('R')\n",
    "a,C,K = sp.symbols(\"a C K\")\n",
    "a = sp.sqrt(R[0]**2+R[1]**2+R[2]**2)\n",
    "u = C*(R[0]**2+R[1]**2+R[2]**2)\n",
    "gradient = gradient(u,R)\n",
    "F = K*gradient\n",
    "n = 1/a*(R[0]*R.x+R[1]*R.y+R[2]*R.z)\n",
    "Fn = F.dot(n)\n",
    "ans = Fn*4*sp.pi*a**2\n",
    "print(sp.simplify(ans))"
   ]
  },
  {
   "cell_type": "code",
   "execution_count": null,
   "metadata": {
    "collapsed": true
   },
   "outputs": [],
   "source": []
  }
 ],
 "metadata": {
  "kernelspec": {
   "display_name": "Python 3",
   "language": "python",
   "name": "python3"
  },
  "language_info": {
   "codemirror_mode": {
    "name": "ipython",
    "version": 3
   },
   "file_extension": ".py",
   "mimetype": "text/x-python",
   "name": "python",
   "nbconvert_exporter": "python",
   "pygments_lexer": "ipython3",
   "version": "3.6.3"
  }
 },
 "nbformat": 4,
 "nbformat_minor": 2
}
