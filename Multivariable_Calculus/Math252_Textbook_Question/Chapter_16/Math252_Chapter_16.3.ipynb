{
 "cells": [
  {
   "cell_type": "markdown",
   "metadata": {},
   "source": [
    "Example.1"
   ]
  },
  {
   "cell_type": "code",
   "execution_count": 18,
   "metadata": {},
   "outputs": [
    {
     "name": "stdout",
     "output_type": "stream",
     "text": [
      "G*M*m*(-4 + 13*sqrt(2))/52\n"
     ]
    }
   ],
   "source": [
    "import sympy as sp\n",
    "from sympy.physics.vector import *\n",
    "R = ReferenceFrame('R')\n",
    "x,y,z,m,M,G = sp.symbols(\"x y z m M G\")\n",
    "f = m*M*G/sp.sqrt(x**2+y**2+z**2)\n",
    "ans  = f.subs([[x,2],[y,2],[z,0]])-f.subs([[x,3],[y,4],[z,12]])\n",
    "print(sp.simplify(ans))"
   ]
  },
  {
   "cell_type": "markdown",
   "metadata": {},
   "source": [
    "Example.2"
   ]
  },
  {
   "cell_type": "code",
   "execution_count": 19,
   "metadata": {},
   "outputs": [
    {
     "name": "stdout",
     "output_type": "stream",
     "text": [
      "F is not conservative\n"
     ]
    }
   ],
   "source": [
    "P = x-y\n",
    "Q = x-2\n",
    "Py=sp.diff(P,y)\n",
    "Qx=sp.diff(Q,x)\n",
    "if Py==Qx:\n",
    "    print(\"F is conservative\")\n",
    "else:\n",
    "    print(\"F is not conservative\")"
   ]
  },
  {
   "cell_type": "markdown",
   "metadata": {},
   "source": [
    "Example.3"
   ]
  },
  {
   "cell_type": "code",
   "execution_count": 20,
   "metadata": {},
   "outputs": [
    {
     "name": "stdout",
     "output_type": "stream",
     "text": [
      "F is conservative\n"
     ]
    }
   ],
   "source": [
    "P = 3+2*x*y\n",
    "Q = x**2-3*y**2\n",
    "Py=sp.diff(P,y)\n",
    "Qx=sp.diff(Q,x)\n",
    "if Py==Qx:\n",
    "    print(\"F is conservative\")\n",
    "else:\n",
    "    print(\"F is not conservative\")"
   ]
  },
  {
   "cell_type": "markdown",
   "metadata": {},
   "source": [
    "Example.4"
   ]
  },
  {
   "cell_type": "code",
   "execution_count": 21,
   "metadata": {},
   "outputs": [
    {
     "name": "stdout",
     "output_type": "stream",
     "text": [
      "K + x**2*y + 3*x - y**3\n",
      "1 + exp(3*pi)\n"
     ]
    }
   ],
   "source": [
    "#a\n",
    "K = sp.symbols(\"K\")\n",
    "fx = 3 + 2*x*y\n",
    "fy = x**2 - 3*y**2\n",
    "f = sp.integrate(fx,x)\n",
    "gy= fy - sp.diff(f,y)\n",
    "g = sp.integrate(gy,y) + K\n",
    "ans = f + g\n",
    "print(ans)\n",
    "#b\n",
    "ans = ans.subs([[x,0],[y,-sp.exp(sp.pi)]]) - ans.subs([[x,0],[y,1]])\n",
    "print(ans)"
   ]
  },
  {
   "cell_type": "markdown",
   "metadata": {},
   "source": [
    "Example.5"
   ]
  },
  {
   "cell_type": "code",
   "execution_count": 22,
   "metadata": {},
   "outputs": [
    {
     "name": "stdout",
     "output_type": "stream",
     "text": [
      "K + x*y**2 + y*exp(3*z)\n"
     ]
    }
   ],
   "source": [
    "fx = y**2\n",
    "fy = 2*x*y + sp.exp(3*z)\n",
    "fz = 3*y*sp.exp(3*z)\n",
    "f = sp.integrate(fx,x)\n",
    "gy = fy - sp.diff(f,y)\n",
    "g = sp.integrate(gy,y)\n",
    "gz = fz - sp.diff(g,z)\n",
    "h = sp.integrate(gz,z) + K\n",
    "ans = f + g + h\n",
    "print(ans)"
   ]
  },
  {
   "cell_type": "code",
   "execution_count": null,
   "metadata": {
    "collapsed": true
   },
   "outputs": [],
   "source": []
  }
 ],
 "metadata": {
  "kernelspec": {
   "display_name": "Python 3",
   "language": "python",
   "name": "python3"
  },
  "language_info": {
   "codemirror_mode": {
    "name": "ipython",
    "version": 3
   },
   "file_extension": ".py",
   "mimetype": "text/x-python",
   "name": "python",
   "nbconvert_exporter": "python",
   "pygments_lexer": "ipython3",
   "version": "3.6.3"
  }
 },
 "nbformat": 4,
 "nbformat_minor": 2
}
