{
 "cells": [
  {
   "cell_type": "markdown",
   "metadata": {},
   "source": [
    "Example3"
   ]
  },
  {
   "cell_type": "code",
   "execution_count": 1,
   "metadata": {},
   "outputs": [
    {
     "name": "stdout",
     "output_type": "stream",
     "text": [
      "[-4  4 -3]\n"
     ]
    }
   ],
   "source": [
    "import numpy as np\n",
    "A = np.array([2,-3,4])\n",
    "B = np.array([-2,1,1])\n",
    "print(B-A)\n"
   ]
  },
  {
   "cell_type": "markdown",
   "metadata": {},
   "source": [
    "Example4"
   ]
  },
  {
   "cell_type": "code",
   "execution_count": 2,
   "metadata": {},
   "outputs": [
    {
     "name": "stdout",
     "output_type": "stream",
     "text": [
      "[2 1 8]\n",
      "[ 6 -1 -2]\n",
      "[-6  3 15]\n",
      "[-2  5 31]\n"
     ]
    }
   ],
   "source": [
    "A = np.array([4,0,3])\n",
    "B = np.array([-2,1,5])\n",
    "print(A + B)\n",
    "print(A - B)\n",
    "print(3*B)\n",
    "print(2*A + 5*B)"
   ]
  },
  {
   "cell_type": "markdown",
   "metadata": {},
   "source": [
    "Example6"
   ]
  },
  {
   "cell_type": "code",
   "execution_count": 3,
   "metadata": {},
   "outputs": [
    {
     "name": "stdout",
     "output_type": "stream",
     "text": [
      "[ 0.66666667 -0.33333333 -0.66666667]\n"
     ]
    }
   ],
   "source": [
    "from numpy import linalg as LA\n",
    "A = np.array([2,-1,-2])\n",
    "unit_vector = A/LA.norm(A)\n",
    "print(unit_vector)"
   ]
  },
  {
   "cell_type": "markdown",
   "metadata": {},
   "source": [
    "Example7"
   ]
  },
  {
   "cell_type": "code",
   "execution_count": 4,
   "metadata": {},
   "outputs": [
    {
     "name": "stdout",
     "output_type": "stream",
     "text": [
      "[ 85.63823503  64.91046515]\n"
     ]
    }
   ],
   "source": [
    "theta1 = 50.0/180*np.pi\n",
    "theta2 = 32.0/180*np.pi\n",
    "a = np.array([[-np.cos(theta1),np.cos(theta2)], [np.sin(theta1),np.sin(theta2)]])\n",
    "b = np.array([0,100])\n",
    "x = np.linalg.solve(a, b)\n",
    "print(x)"
   ]
  },
  {
   "cell_type": "code",
   "execution_count": null,
   "metadata": {
    "collapsed": true
   },
   "outputs": [],
   "source": []
  }
 ],
 "metadata": {
  "kernelspec": {
   "display_name": "Python 3",
   "language": "python",
   "name": "python3"
  },
  "language_info": {
   "codemirror_mode": {
    "name": "ipython",
    "version": 3
   },
   "file_extension": ".py",
   "mimetype": "text/x-python",
   "name": "python",
   "nbconvert_exporter": "python",
   "pygments_lexer": "ipython3",
   "version": "3.6.3"
  }
 },
 "nbformat": 4,
 "nbformat_minor": 2
}
