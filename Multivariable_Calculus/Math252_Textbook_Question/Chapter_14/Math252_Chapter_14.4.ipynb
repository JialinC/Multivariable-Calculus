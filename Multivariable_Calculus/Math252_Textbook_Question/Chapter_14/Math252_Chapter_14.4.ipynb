{
 "cells": [
  {
   "cell_type": "markdown",
   "metadata": {},
   "source": [
    "Example.1"
   ]
  },
  {
   "cell_type": "code",
   "execution_count": 1,
   "metadata": {},
   "outputs": [
    {
     "name": "stdout",
     "output_type": "stream",
     "text": [
      "4*x + 2*y - z - 3\n"
     ]
    }
   ],
   "source": [
    "import sympy as sp\n",
    "from sympy.physics.vector import *\n",
    "R = ReferenceFrame('R')\n",
    "x,y,z = sp.symbols('x y z')\n",
    "f = 2*x**2 + y**2 - z\n",
    "fx = sp.diff(f,x)\n",
    "fy = sp.diff(f,y)\n",
    "fz = sp.diff(f,z)\n",
    "fx113 = fx.subs([[x,1],[y,1],[z,3]])\n",
    "fy113 = fy.subs([[x,1],[y,1],[z,3]])\n",
    "fz113 = fz.subs([[x,1],[y,1],[z,3]])\n",
    "normal_vector = fx113*R.x + fy113*R.y + fz113*R.z\n",
    "v = (x - 1)*R.x + (y - 1)*R.y + (z - 3)*R.z\n",
    "plane = v.dot(normal_vector)\n",
    "print(plane)"
   ]
  },
  {
   "cell_type": "markdown",
   "metadata": {},
   "source": [
    "Example.2"
   ]
  },
  {
   "cell_type": "code",
   "execution_count": 2,
   "metadata": {},
   "outputs": [
    {
     "name": "stdout",
     "output_type": "stream",
     "text": [
      "1.00000000000000\n"
     ]
    }
   ],
   "source": [
    "f=x*sp.exp(x*y)\n",
    "fx = sp.diff(f,x)\n",
    "fy = sp.diff(f,y)\n",
    "fx10 = fx.subs([[x,1],[y,0]])\n",
    "fy10 = fy.subs([[x,1],[y,0]])\n",
    "l = f.subs([[x,1],[y,0]]) + fx10*(x-1) + fy10*(y-0)\n",
    "approximation = l.subs([[x,1.1],[y,-0.1]])\n",
    "print(approximation)"
   ]
  },
  {
   "cell_type": "markdown",
   "metadata": {},
   "source": [
    "Example.4"
   ]
  },
  {
   "cell_type": "code",
   "execution_count": 3,
   "metadata": {},
   "outputs": [
    {
     "name": "stdout",
     "output_type": "stream",
     "text": [
      "0.650000000000000\n",
      "0.644899999999996\n"
     ]
    }
   ],
   "source": [
    "dx,dy = sp.symbols('dx dy')\n",
    "z = x**2 + 3*x*y - y**2\n",
    "dz = sp.diff(z,x)*dx + sp.diff(z,y)*dy\n",
    "differential = dz.subs([[x,2],[y,3],[dx,0.05],[dy,-0.04]])\n",
    "increment = z.subs([[x,2.05],[y,2.96]]) - z.subs([[x,2],[y,3]])\n",
    "print(differential)\n",
    "print(increment)"
   ]
  },
  {
   "cell_type": "markdown",
   "metadata": {},
   "source": [
    "Example.5"
   ]
  },
  {
   "cell_type": "code",
   "execution_count": 4,
   "metadata": {},
   "outputs": [
    {
     "name": "stdout",
     "output_type": "stream",
     "text": [
      "20.0*pi\n"
     ]
    }
   ],
   "source": [
    "r,h,dr,dh = sp.symbols('r h dr dh')\n",
    "V = sp.pi*r**2*h/3\n",
    "Vdr = sp.diff(V,r)\n",
    "Vdh = sp.diff(V,h)\n",
    "dV = Vdr*dr + Vdh*dh\n",
    "differential = dV.subs([[dr,0.1],[dh,0.1],[r,10],[h,25]])\n",
    "print(differential)"
   ]
  },
  {
   "cell_type": "markdown",
   "metadata": {},
   "source": [
    "Example.6"
   ]
  },
  {
   "cell_type": "code",
   "execution_count": 5,
   "metadata": {},
   "outputs": [
    {
     "name": "stdout",
     "output_type": "stream",
     "text": [
      "1980.00000000000\n"
     ]
    }
   ],
   "source": [
    "x,y,z,dx,dy,dz = sp.symbols('x y z dx dy dz')\n",
    "V = x*y*z\n",
    "Vdx = sp.diff(V,x)\n",
    "Vdy = sp.diff(V,y)\n",
    "Vdz = sp.diff(V,z)\n",
    "dV = Vdx*dx + Vdy*dy + Vdz*dz\n",
    "differential = dV.subs([[x,75],[y,60],[z,40],[dx,0.2],[dy,0.2],[dz,0.2]])\n",
    "print(differential)"
   ]
  },
  {
   "cell_type": "code",
   "execution_count": null,
   "metadata": {
    "collapsed": true
   },
   "outputs": [],
   "source": []
  }
 ],
 "metadata": {
  "kernelspec": {
   "display_name": "Python 3",
   "language": "python",
   "name": "python3"
  },
  "language_info": {
   "codemirror_mode": {
    "name": "ipython",
    "version": 3
   },
   "file_extension": ".py",
   "mimetype": "text/x-python",
   "name": "python",
   "nbconvert_exporter": "python",
   "pygments_lexer": "ipython3",
   "version": "3.6.3"
  }
 },
 "nbformat": 4,
 "nbformat_minor": 2
}
