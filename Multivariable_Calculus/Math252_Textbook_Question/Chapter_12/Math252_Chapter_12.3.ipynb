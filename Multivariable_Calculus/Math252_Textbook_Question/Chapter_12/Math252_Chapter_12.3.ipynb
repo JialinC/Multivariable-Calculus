{
 "cells": [
  {
   "cell_type": "markdown",
   "metadata": {
    "collapsed": true
   },
   "source": [
    "Example.1"
   ]
  },
  {
   "cell_type": "code",
   "execution_count": 1,
   "metadata": {},
   "outputs": [
    {
     "name": "stdout",
     "output_type": "stream",
     "text": [
      "2\n",
      "6.0\n",
      "7\n"
     ]
    }
   ],
   "source": [
    "import numpy as np\n",
    "#1\n",
    "A = np.array([2,4]) \n",
    "B = np.array([3,-1])\n",
    "ans = A.dot(B)\n",
    "print(ans)\n",
    "#2\n",
    "A = np.array([-1,7,4]) \n",
    "B = np.array([6,2,-1/2])\n",
    "ans = A.dot(B)\n",
    "print(ans)\n",
    "#\n",
    "A = np.array([1,2,-3]) \n",
    "B = np.array([0,2,-1])\n",
    "ans = A.dot(B)\n",
    "print(ans)"
   ]
  },
  {
   "cell_type": "markdown",
   "metadata": {},
   "source": [
    "Example.2"
   ]
  },
  {
   "cell_type": "code",
   "execution_count": 2,
   "metadata": {},
   "outputs": [
    {
     "name": "stdout",
     "output_type": "stream",
     "text": [
      "12.0\n"
     ]
    }
   ],
   "source": [
    "a = 4\n",
    "b = 6\n",
    "theta = np.pi/3\n",
    "ans = a*b*np.cos(theta)\n",
    "print(ans)"
   ]
  },
  {
   "cell_type": "markdown",
   "metadata": {},
   "source": [
    "Example.3"
   ]
  },
  {
   "cell_type": "code",
   "execution_count": 3,
   "metadata": {},
   "outputs": [
    {
     "name": "stdout",
     "output_type": "stream",
     "text": [
      "1.46243678131\n",
      "83.7914553738\n"
     ]
    }
   ],
   "source": [
    "a = np.array([2,2,-1])\n",
    "b = np.array([5,-3,2])\n",
    "norm_a = np.linalg.norm(a)\n",
    "norm_b = np.linalg.norm(b)\n",
    "cos_theta = a.dot(b)/(norm_a*norm_b)\n",
    "ans = np.arccos(cos_theta)\n",
    "#or\n",
    "ans_in_degree = 180*ans/np.pi\n",
    "print(ans)\n",
    "print(ans_in_degree)"
   ]
  },
  {
   "cell_type": "markdown",
   "metadata": {},
   "source": [
    "Example.4"
   ]
  },
  {
   "cell_type": "code",
   "execution_count": 4,
   "metadata": {},
   "outputs": [
    {
     "name": "stdout",
     "output_type": "stream",
     "text": [
      "perpendicular\n"
     ]
    }
   ],
   "source": [
    "A = np.array([2,2,-1])\n",
    "B = np.array([5,-4,2])\n",
    "if A.dot(B) == 0:\n",
    "    print('perpendicular')\n",
    "else:\n",
    "    print('not perpendicular')"
   ]
  },
  {
   "cell_type": "markdown",
   "metadata": {},
   "source": [
    "Example.5"
   ]
  },
  {
   "cell_type": "code",
   "execution_count": 5,
   "metadata": {},
   "outputs": [
    {
     "name": "stdout",
     "output_type": "stream",
     "text": [
      "74.4986404331\n",
      "57.6884667626\n",
      "36.6992252005\n"
     ]
    }
   ],
   "source": [
    "a = np.array([1,2,3])\n",
    "norm_a = np.linalg.norm(a)\n",
    "cos_alpha = 1/(norm_a)\n",
    "cos_beta = 2/(norm_a)\n",
    "cos_gamma = 3/(norm_a)\n",
    "alpha = 180*np.arccos(cos_alpha)/np.pi\n",
    "beta = 180*np.arccos(cos_beta)/np.pi\n",
    "gamma = 180*np.arccos(cos_gamma)/np.pi\n",
    "print(alpha)\n",
    "print(beta)\n",
    "print(gamma)"
   ]
  },
  {
   "cell_type": "markdown",
   "metadata": {},
   "source": [
    "Example.6"
   ]
  },
  {
   "cell_type": "code",
   "execution_count": 6,
   "metadata": {},
   "outputs": [
    {
     "name": "stdout",
     "output_type": "stream",
     "text": [
      "0.801783725737\n",
      "[-0.42857143  0.64285714  0.21428571]\n"
     ]
    }
   ],
   "source": [
    "a = np.array([-2,3,1])\n",
    "b = np.array([1,1,2])\n",
    "norm_a = np.linalg.norm(a)\n",
    "scalar_proj = a.dot(b)/norm_a\n",
    "vector_proj = scalar_proj*a/norm_a\n",
    "print(scalar_proj)\n",
    "print(vector_proj)"
   ]
  },
  {
   "cell_type": "markdown",
   "metadata": {},
   "source": [
    "Example.7"
   ]
  },
  {
   "cell_type": "code",
   "execution_count": 7,
   "metadata": {},
   "outputs": [
    {
     "name": "stdout",
     "output_type": "stream",
     "text": [
      "5734.06431002\n"
     ]
    }
   ],
   "source": [
    "F = 70\n",
    "D = 100\n",
    "angle = 35/180*np.pi\n",
    "W = F*D*np.cos(angle)\n",
    "print(W)"
   ]
  },
  {
   "cell_type": "markdown",
   "metadata": {},
   "source": [
    "Example.8"
   ]
  },
  {
   "cell_type": "code",
   "execution_count": 8,
   "metadata": {},
   "outputs": [
    {
     "name": "stdout",
     "output_type": "stream",
     "text": [
      "36\n"
     ]
    }
   ],
   "source": [
    "P = np.array([2,1,0])\n",
    "Q = np.array([4,6,2])\n",
    "F = np.array([3,4,5])\n",
    "D = Q - P\n",
    "W = F.dot(D)\n",
    "print(W)"
   ]
  },
  {
   "cell_type": "code",
   "execution_count": null,
   "metadata": {
    "collapsed": true
   },
   "outputs": [],
   "source": []
  }
 ],
 "metadata": {
  "kernelspec": {
   "display_name": "Python 3",
   "language": "python",
   "name": "python3"
  },
  "language_info": {
   "codemirror_mode": {
    "name": "ipython",
    "version": 3
   },
   "file_extension": ".py",
   "mimetype": "text/x-python",
   "name": "python",
   "nbconvert_exporter": "python",
   "pygments_lexer": "ipython3",
   "version": "3.6.3"
  }
 },
 "nbformat": 4,
 "nbformat_minor": 2
}
