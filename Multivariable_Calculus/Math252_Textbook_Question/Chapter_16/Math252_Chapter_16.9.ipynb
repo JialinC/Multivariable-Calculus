{
 "cells": [
  {
   "cell_type": "markdown",
   "metadata": {},
   "source": [
    "Example.1"
   ]
  },
  {
   "cell_type": "code",
   "execution_count": 18,
   "metadata": {},
   "outputs": [
    {
     "name": "stdout",
     "output_type": "stream",
     "text": [
      "4*pi/3\n"
     ]
    }
   ],
   "source": [
    "import sympy as sp\n",
    "from sympy.physics.vector import *\n",
    "R = ReferenceFrame('R')\n",
    "dV,V = sp.symbols('dV V')\n",
    "F=R[2]*R.x+R[1]*R.y+R[0]*R.z\n",
    "div=sp.simplify(divergence(F,R))\n",
    "ans = sp.integrate(div,(dV,0,V))\n",
    "ans = ans.subs(V,4*sp.pi/3)\n",
    "print(ans)"
   ]
  },
  {
   "cell_type": "markdown",
   "metadata": {},
   "source": [
    "Example.2"
   ]
  },
  {
   "cell_type": "code",
   "execution_count": 19,
   "metadata": {},
   "outputs": [
    {
     "name": "stdout",
     "output_type": "stream",
     "text": [
      "184/35\n"
     ]
    }
   ],
   "source": [
    "F = R[0]*R[1]*R.x + (R[1]**2+sp.exp(R[0]*R[2]**2))*R.y + sp.sin(R[0]*R[1])*R.z\n",
    "div = sp.simplify(divergence(F,R))\n",
    "ans = sp.integrate(sp.integrate(sp.integrate(div,(R[1],0,2-R[2])),(R[2],0,1-R[0]**2)),(R[0],-1,1))\n",
    "print(ans)"
   ]
  },
  {
   "cell_type": "code",
   "execution_count": null,
   "metadata": {
    "collapsed": true
   },
   "outputs": [],
   "source": []
  }
 ],
 "metadata": {
  "kernelspec": {
   "display_name": "Python 3",
   "language": "python",
   "name": "python3"
  },
  "language_info": {
   "codemirror_mode": {
    "name": "ipython",
    "version": 3
   },
   "file_extension": ".py",
   "mimetype": "text/x-python",
   "name": "python",
   "nbconvert_exporter": "python",
   "pygments_lexer": "ipython3",
   "version": "3.6.3"
  }
 },
 "nbformat": 4,
 "nbformat_minor": 2
}
