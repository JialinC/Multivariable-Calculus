{
 "cells": [
  {
   "cell_type": "markdown",
   "metadata": {},
   "source": [
    "Example.1"
   ]
  },
  {
   "cell_type": "code",
   "execution_count": 1,
   "metadata": {},
   "outputs": [
    {
     "name": "stdout",
     "output_type": "stream",
     "text": [
      "-(x**2 + 12*x*y**3)*sin(t) + 2*(2*x*y + 3*y**4)*cos(2*t)\n"
     ]
    }
   ],
   "source": [
    "import sympy as sp\n",
    "x,y,t = sp.symbols('x y t')\n",
    "x = sp.sin(2*t)\n",
    "y = sp.cos(t)\n",
    "dxdt = sp.diff(x,t)\n",
    "dydt = sp.diff(y,t)\n",
    "x,y = sp.symbols('x y')\n",
    "z = x**2*y + 3*x*y**4\n",
    "dzdx = sp.diff(z,x)\n",
    "dzdy = sp.diff(z,y)\n",
    "dzdt = dzdx*dxdt + dzdy*dydt\n",
    "print(dzdt)"
   ]
  },
  {
   "cell_type": "markdown",
   "metadata": {},
   "source": [
    "Example.2"
   ]
  },
  {
   "cell_type": "code",
   "execution_count": 2,
   "metadata": {},
   "outputs": [
    {
     "name": "stdout",
     "output_type": "stream",
     "text": [
      "-0.0415500000000000\n"
     ]
    }
   ],
   "source": [
    "T,V = sp.symbols('T V')\n",
    "P = 8.31*T/V\n",
    "dPdT = sp.diff(P,T)\n",
    "dPdV = sp.diff(P,V)\n",
    "dPdt = dPdT*0.1 + dPdV*0.2\n",
    "rate = dPdt.subs([[T,300],[V,100]])\n",
    "print(rate)"
   ]
  },
  {
   "cell_type": "markdown",
   "metadata": {},
   "source": [
    "Example.3"
   ]
  },
  {
   "cell_type": "code",
   "execution_count": 3,
   "metadata": {},
   "outputs": [
    {
     "name": "stdout",
     "output_type": "stream",
     "text": [
      "2*s*t*exp(x)*cos(y) + t**2*exp(x)*sin(y)\n",
      "s**2*exp(x)*cos(y) + 2*s*t*exp(x)*sin(y)\n"
     ]
    }
   ],
   "source": [
    "x,y,s,t = sp.symbols('x y s t')\n",
    "z = sp.exp(x)*sp.sin(y)\n",
    "dzdx = sp.diff(z,x)\n",
    "dzdy = sp.diff(z,y)\n",
    "x = s*t**2\n",
    "y = s**2*t\n",
    "dxds = sp.diff(x,s)\n",
    "dyds = sp.diff(y,s)\n",
    "dxdt = sp.diff(x,t)\n",
    "dydt = sp.diff(y,t)\n",
    "dzds = dzdx*dxds + dzdy*dyds\n",
    "dzdt = dzdx*dxdt + dzdy*dydt\n",
    "print(dzds)\n",
    "print(dzdt)"
   ]
  },
  {
   "cell_type": "markdown",
   "metadata": {},
   "source": [
    "Example.5"
   ]
  },
  {
   "cell_type": "code",
   "execution_count": 4,
   "metadata": {},
   "outputs": [
    {
     "name": "stdout",
     "output_type": "stream",
     "text": [
      "192\n"
     ]
    }
   ],
   "source": [
    "x,y,z,r,s,t = sp.symbols('x y z r s t')\n",
    "u = x**4*y + y**2*z**3\n",
    "dudx = sp.diff(u,x)\n",
    "dudy = sp.diff(u,y)\n",
    "dudz = sp.diff(u,z)\n",
    "x1,y1,z1 = sp.symbols('x1 y1 z1')\n",
    "x1 = r*s*sp.exp(t)\n",
    "y1 = r*s**2*sp.exp(-t)\n",
    "z1 = r**2*s*sp.sin(t)\n",
    "dxds = sp.diff(x1,s)\n",
    "dyds = sp.diff(y1,s)\n",
    "dzds = sp.diff(z1,s)\n",
    "duds = sp.simplify(dudx*dxds + dudy*dyds + dudz*dzds)\n",
    "duds210 = duds.subs([[r,2],[s,1],[t,0],[x,2],[y,2],[z,0]])\n",
    "print(duds210)"
   ]
  },
  {
   "cell_type": "markdown",
   "metadata": {},
   "source": [
    "Example.6"
   ]
  },
  {
   "cell_type": "code",
   "execution_count": 5,
   "metadata": {},
   "outputs": [
    {
     "name": "stdout",
     "output_type": "stream",
     "text": [
      "0\n"
     ]
    }
   ],
   "source": [
    "x,y,s,t,dfdx,dfdy = sp.symbols('x y s t dfdx dfdy')\n",
    "x = s**2 - t**2\n",
    "y = t**2 - s**2\n",
    "dxds = sp.diff(x,s)\n",
    "dyds = sp.diff(y,s)\n",
    "dxdt = sp.diff(x,t)\n",
    "dydt = sp.diff(y,t)\n",
    "dgds = dxds*dfdx + dyds*dfdy\n",
    "dgdt = dxdt*dfdx + dydt*dfdy\n",
    "equ = sp.simplify(t*dgds+s*dgdt)\n",
    "print(equ)"
   ]
  },
  {
   "cell_type": "markdown",
   "metadata": {},
   "source": [
    "Example.7"
   ]
  },
  {
   "cell_type": "code",
   "execution_count": 6,
   "metadata": {},
   "outputs": [
    {
     "name": "stdout",
     "output_type": "stream",
     "text": [
      "2*dzdx*r + 2*dzdy*s\n"
     ]
    }
   ],
   "source": [
    "x,y,r,s,dzdx,dzdy = sp.symbols('x y r s dzdx dzdy')\n",
    "x = r**2 + s**2\n",
    "y = 2*r*s\n",
    "dxdr = sp.diff(x,r)\n",
    "dydr = sp.diff(y,r)\n",
    "dxds = sp.diff(x,s)\n",
    "dyds = sp.diff(y,s)\n",
    "dzdr = dxdr*dzdx + dydr*dzdy\n",
    "print(dzdr)"
   ]
  },
  {
   "cell_type": "markdown",
   "metadata": {},
   "source": [
    "Example.8"
   ]
  },
  {
   "cell_type": "code",
   "execution_count": 7,
   "metadata": {},
   "outputs": [
    {
     "name": "stdout",
     "output_type": "stream",
     "text": [
      "(x**2 - 2*y)/(2*x - y**2)\n"
     ]
    }
   ],
   "source": [
    "x,y = sp.symbols('x y')\n",
    "f = x**3 + y**3 - 6*x*y\n",
    "dfdx = sp.diff(f,x)\n",
    "dfdy = sp.diff(f,y)\n",
    "dydx = sp.simplify(-dfdx/dfdy)\n",
    "print(dydx)"
   ]
  },
  {
   "cell_type": "markdown",
   "metadata": {},
   "source": [
    "Example.9"
   ]
  },
  {
   "cell_type": "code",
   "execution_count": 8,
   "metadata": {},
   "outputs": [
    {
     "name": "stdout",
     "output_type": "stream",
     "text": [
      "-(x**2 + 2*y*z)/(2*x*y + z**2)\n",
      "-(2*x*z + y**2)/(2*x*y + z**2)\n"
     ]
    }
   ],
   "source": [
    "x,y,z = sp.symbols('x y z')\n",
    "f = x**3 + y**3 + z**3 + 6*x*y*z\n",
    "dfdx = sp.diff(f,x)\n",
    "dfdy = sp.diff(f,y)\n",
    "dfdz = sp.diff(f,z)\n",
    "dzdx = sp.simplify(-dfdx/dfdz)\n",
    "dzdy = sp.simplify(-dfdy/dfdz)\n",
    "print(dzdx)\n",
    "print(dzdy)"
   ]
  },
  {
   "cell_type": "code",
   "execution_count": null,
   "metadata": {
    "collapsed": true
   },
   "outputs": [],
   "source": []
  }
 ],
 "metadata": {
  "kernelspec": {
   "display_name": "Python 3",
   "language": "python",
   "name": "python3"
  },
  "language_info": {
   "codemirror_mode": {
    "name": "ipython",
    "version": 3
   },
   "file_extension": ".py",
   "mimetype": "text/x-python",
   "name": "python",
   "nbconvert_exporter": "python",
   "pygments_lexer": "ipython3",
   "version": "3.6.3"
  }
 },
 "nbformat": 4,
 "nbformat_minor": 2
}
