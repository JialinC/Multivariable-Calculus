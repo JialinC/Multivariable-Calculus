{
 "cells": [
  {
   "cell_type": "markdown",
   "metadata": {},
   "source": [
    "Example.1"
   ]
  },
  {
   "cell_type": "code",
   "execution_count": 1,
   "metadata": {},
   "outputs": [
    {
     "name": "stdout",
     "output_type": "stream",
     "text": [
      "5/24\n"
     ]
    }
   ],
   "source": [
    "import sympy as sp\n",
    "x,y = sp.symbols(\"x y\")\n",
    "f=x*y\n",
    "result=sp.integrate(sp.integrate(f,(y,1-x,1)),(x,0,1))\n",
    "print(result)"
   ]
  },
  {
   "cell_type": "markdown",
   "metadata": {},
   "source": [
    "Example.2"
   ]
  },
  {
   "cell_type": "code",
   "execution_count": 2,
   "metadata": {},
   "outputs": [
    {
     "name": "stdout",
     "output_type": "stream",
     "text": [
      "5/24\n",
      "3/8\n",
      "11/16\n"
     ]
    }
   ],
   "source": [
    "f=1+3*x+y\n",
    "m=sp.integrate(sp.integrate(f,(y,0,2-2*x)),(x,0,1))\n",
    "xbar=1/m*sp.integrate(sp.integrate(x*f,(y,0,2-2*x)),(x,0,1))\n",
    "ybar=1/m*sp.integrate(sp.integrate(y*f,(y,0,2-2*x)),(x,0,1))\n",
    "print(result)\n",
    "print(xbar)\n",
    "print(ybar)"
   ]
  },
  {
   "cell_type": "markdown",
   "metadata": {},
   "source": [
    "Example.3"
   ]
  },
  {
   "cell_type": "code",
   "execution_count": 3,
   "metadata": {},
   "outputs": [
    {
     "name": "stdout",
     "output_type": "stream",
     "text": [
      "pi*K*a**2*sqrt(a**2)/3\n",
      "3*a/(2*pi)\n"
     ]
    }
   ],
   "source": [
    "theta,r,x,y,K,a = sp.symbols(\"theta r x y K a\")\n",
    "x=r*sp.cos(theta)\n",
    "y=r*sp.sin(theta)\n",
    "F=K*sp.sqrt(x**2+y**2)\n",
    "m=sp.integrate(sp.integrate(F*r,(r,0,a)),(theta,0,sp.pi))\n",
    "ybara=1/m*sp.integrate(sp.integrate(y*F*r,(r,0,a)),(theta,0,sp.pi))\n",
    "print(sp.simplify(m))\n",
    "print(sp.simplify(ybara))"
   ]
  },
  {
   "cell_type": "code",
   "execution_count": null,
   "metadata": {
    "collapsed": true
   },
   "outputs": [],
   "source": []
  }
 ],
 "metadata": {
  "kernelspec": {
   "display_name": "Python 3",
   "language": "python",
   "name": "python3"
  },
  "language_info": {
   "codemirror_mode": {
    "name": "ipython",
    "version": 3
   },
   "file_extension": ".py",
   "mimetype": "text/x-python",
   "name": "python",
   "nbconvert_exporter": "python",
   "pygments_lexer": "ipython3",
   "version": "3.6.3"
  }
 },
 "nbformat": 4,
 "nbformat_minor": 2
}
