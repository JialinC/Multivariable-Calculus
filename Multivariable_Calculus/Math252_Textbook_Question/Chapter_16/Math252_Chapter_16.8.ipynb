{
 "cells": [
  {
   "cell_type": "markdown",
   "metadata": {},
   "source": [
    "Example.1"
   ]
  },
  {
   "cell_type": "code",
   "execution_count": 11,
   "metadata": {},
   "outputs": [
    {
     "name": "stdout",
     "output_type": "stream",
     "text": [
      "pi\n"
     ]
    }
   ],
   "source": [
    "import sympy as sp\n",
    "from sympy.physics.vector import *\n",
    "R = ReferenceFrame('R')\n",
    "x,y,z,theta,r = sp.symbols(\"x y z theta r\")\n",
    "F = -R[1]**2*R.x + R[0]*R.y + R[2]**2*R.z\n",
    "curlF = curl(F,R)\n",
    "curlFn = dot(curlF,R.x+R.y+R.z)\n",
    "curlFn = curlFn.subs(R[1],r*sp.sin(theta))\n",
    "result = sp.integrate(sp.integrate(curlFn*r,(r,0,1)),(theta,0,2*sp.pi))\n",
    "print(result)"
   ]
  },
  {
   "cell_type": "markdown",
   "metadata": {},
   "source": [
    "Example.2"
   ]
  },
  {
   "cell_type": "code",
   "execution_count": 12,
   "metadata": {},
   "outputs": [
    {
     "name": "stdout",
     "output_type": "stream",
     "text": [
      "0\n"
     ]
    }
   ],
   "source": [
    "x,y,z,t = sp.symbols(\"x y z t\")\n",
    "x = sp.cos(t)\n",
    "y = sp.sin(t)\n",
    "z = sp.sqrt(3)\n",
    "r = x*R.x + y*R.y + z*R.z\n",
    "F = x*z*R.x + y*z*R.y + x*y*R.z\n",
    "rdt = r.diff(t,R)\n",
    "dot = rdt.dot(F)\n",
    "integrate = sp.integrate(dot,(t,0,2*sp.pi))\n",
    "print(integrate)"
   ]
  },
  {
   "cell_type": "code",
   "execution_count": null,
   "metadata": {
    "collapsed": true
   },
   "outputs": [],
   "source": []
  }
 ],
 "metadata": {
  "kernelspec": {
   "display_name": "Python 3",
   "language": "python",
   "name": "python3"
  },
  "language_info": {
   "codemirror_mode": {
    "name": "ipython",
    "version": 3
   },
   "file_extension": ".py",
   "mimetype": "text/x-python",
   "name": "python",
   "nbconvert_exporter": "python",
   "pygments_lexer": "ipython3",
   "version": "3.6.3"
  }
 },
 "nbformat": 4,
 "nbformat_minor": 2
}
