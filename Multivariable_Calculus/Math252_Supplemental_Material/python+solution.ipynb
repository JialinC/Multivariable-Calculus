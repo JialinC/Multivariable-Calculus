{
 "cells": [
  {
   "cell_type": "markdown",
   "metadata": {},
   "source": [
    "Q1.a"
   ]
  },
  {
   "cell_type": "code",
   "execution_count": 1,
   "metadata": {},
   "outputs": [
    {
     "name": "stdout",
     "output_type": "stream",
     "text": [
      "2*pi*a**2\n"
     ]
    }
   ],
   "source": [
    "import sympy as sp\n",
    "theta,a,r,x,y = sp.symbols(\"theta a r x y\")\n",
    "x = a*sp.cos(theta)\n",
    "y = a*sp.sin(theta)\n",
    "dx = sp.diff(x,theta)\n",
    "dy = sp.diff(y,theta)\n",
    "f = x*dy - y*dx\n",
    "result = sp.integrate(f,(theta,0,2*sp.pi))\n",
    "print(result)"
   ]
  },
  {
   "cell_type": "markdown",
   "metadata": {},
   "source": [
    "Q1.b"
   ]
  },
  {
   "cell_type": "code",
   "execution_count": 2,
   "metadata": {},
   "outputs": [
    {
     "name": "stdout",
     "output_type": "stream",
     "text": [
      "2*pi*a**2\n"
     ]
    }
   ],
   "source": [
    "from sympy.physics.vector import *\n",
    "R = ReferenceFrame('R')\n",
    "F = -R[1]*R.x + R[0]*R.y + 0*R.z\n",
    "curlF = curl(F,R)\n",
    "curlFn = dot(curlF,R.x+R.y+R.z)\n",
    "result = sp.integrate(sp.integrate(curlFn*r,(r,0,a)),(theta,0,2*sp.pi))\n",
    "print(result)"
   ]
  },
  {
   "cell_type": "markdown",
   "metadata": {},
   "source": [
    "Q2.a"
   ]
  },
  {
   "cell_type": "code",
   "execution_count": 3,
   "metadata": {},
   "outputs": [
    {
     "name": "stdout",
     "output_type": "stream",
     "text": [
      "2*pi*a**2\n"
     ]
    }
   ],
   "source": [
    "theta,a,x,y = sp.symbols(\"theta a x y\")\n",
    "x = a*sp.cos(theta)\n",
    "y = a*sp.sin(theta)\n",
    "dx = sp.diff(x,theta)\n",
    "dy = sp.diff(y,theta)\n",
    "f = x*dy - y*dx\n",
    "result = sp.integrate(f,(theta,0,2*sp.pi))\n",
    "print(result)"
   ]
  },
  {
   "cell_type": "markdown",
   "metadata": {},
   "source": [
    "Q2.b"
   ]
  },
  {
   "cell_type": "code",
   "execution_count": 4,
   "metadata": {},
   "outputs": [
    {
     "name": "stdout",
     "output_type": "stream",
     "text": [
      "2*pi*a**2\n"
     ]
    }
   ],
   "source": [
    "x,y = sp.symbols(\"x y\")\n",
    "R = ReferenceFrame('R')\n",
    "F = R[0]*R.x + R[1]*R.y\n",
    "div = divergence(F,R)\n",
    "result = div*sp.integrate(sp.integrate(r,(r,0,a)),(theta,0,2*sp.pi))\n",
    "print(result)"
   ]
  },
  {
   "cell_type": "markdown",
   "metadata": {},
   "source": [
    "Q3.a"
   ]
  },
  {
   "cell_type": "code",
   "execution_count": 5,
   "metadata": {},
   "outputs": [
    {
     "name": "stdout",
     "output_type": "stream",
     "text": [
      "2*pi\n"
     ]
    }
   ],
   "source": [
    "theta,a,x,y = sp.symbols(\"theta a x y\")\n",
    "x = a*sp.cos(theta)\n",
    "y = a*sp.sin(theta)\n",
    "dx = sp.diff(x,theta)\n",
    "dy = sp.diff(y,theta)\n",
    "f = (-y*dx + x*dy)/(x**2 + y**2)\n",
    "result = sp.integrate(f,(theta,0,2*sp.pi))\n",
    "print(result)"
   ]
  },
  {
   "cell_type": "markdown",
   "metadata": {},
   "source": [
    "Q3.b"
   ]
  },
  {
   "cell_type": "code",
   "execution_count": 6,
   "metadata": {},
   "outputs": [
    {
     "name": "stdout",
     "output_type": "stream",
     "text": [
      "0\n"
     ]
    }
   ],
   "source": [
    "x,y,z = sp.symbols(\"x y z\")\n",
    "R = ReferenceFrame('R')\n",
    "F = -R[1]/(R[0]**2 + R[1]**2)*R.x + R[0]/(R[0]**2 + R[1]**2)*R.y + 0*R.z\n",
    "curlF = curl(F,R)\n",
    "curlFn = sp.simplify(dot(curlF,R.x+R.y+R.z))\n",
    "print(curlFn)"
   ]
  },
  {
   "cell_type": "markdown",
   "metadata": {},
   "source": [
    "Q4.a"
   ]
  },
  {
   "cell_type": "code",
   "execution_count": 7,
   "metadata": {},
   "outputs": [
    {
     "name": "stdout",
     "output_type": "stream",
     "text": [
      "2*pi\n"
     ]
    }
   ],
   "source": [
    "theta,x,y = sp.symbols(\"theta x y\")\n",
    "x=a*sp.cos(theta)\n",
    "y=a*sp.sin(theta)\n",
    "dx=sp.diff(x,theta)\n",
    "dy=sp.diff(y,theta)\n",
    "f=(x*dy-y*dx)/(x**2+y**2)\n",
    "result=sp.integrate(f,(theta,0,2*sp.pi))\n",
    "print(result)"
   ]
  },
  {
   "cell_type": "markdown",
   "metadata": {},
   "source": [
    "Q4.b"
   ]
  },
  {
   "cell_type": "code",
   "execution_count": 8,
   "metadata": {},
   "outputs": [
    {
     "name": "stdout",
     "output_type": "stream",
     "text": [
      "0\n"
     ]
    }
   ],
   "source": [
    "x,y = sp.symbols(\"x y\")\n",
    "R = ReferenceFrame('R')\n",
    "F = R[0]/(R[0]**2+R[1]**2)*R.x+R[1]/(R[0]**2+R[1]**2)*R.y+0*R.z\n",
    "div=sp.simplify(divergence(F,R))\n",
    "print(div)"
   ]
  },
  {
   "cell_type": "markdown",
   "metadata": {},
   "source": [
    "Q5.a"
   ]
  },
  {
   "cell_type": "code",
   "execution_count": 9,
   "metadata": {},
   "outputs": [
    {
     "name": "stdout",
     "output_type": "stream",
     "text": [
      "-x1**2/2 + x2**2/2 - y1**2/2 + y2**2/2\n"
     ]
    }
   ],
   "source": [
    "x,y,x1,x2,y1,y2,t = sp.symbols(\"x y x1 x2 y1 y2 t\")\n",
    "resulta = sp.integrate(x,(x,x1,x2)) + sp.integrate(y,(y,y1,y2))\n",
    "print(resulta)"
   ]
  },
  {
   "cell_type": "markdown",
   "metadata": {},
   "source": [
    "Q5.b"
   ]
  },
  {
   "cell_type": "code",
   "execution_count": 10,
   "metadata": {},
   "outputs": [
    {
     "name": "stdout",
     "output_type": "stream",
     "text": [
      "-x1**2/2 + x2**2/2 - y1**2/2 + y2**2/2\n"
     ]
    }
   ],
   "source": [
    "f = (x1+t*(x2-x1))*(x2-x1)+(y1+t*(y2-y1))*(y2-y1)\n",
    "resultb=sp.integrate(f,(t,0,1))\n",
    "print(resultb)"
   ]
  },
  {
   "cell_type": "markdown",
   "metadata": {},
   "source": [
    "Q5.c"
   ]
  },
  {
   "cell_type": "code",
   "execution_count": 11,
   "metadata": {},
   "outputs": [
    {
     "name": "stdout",
     "output_type": "stream",
     "text": [
      "x**2/2 + y**2/2\n"
     ]
    }
   ],
   "source": [
    "fx=x\n",
    "fy=y\n",
    "f=sp.integrate(fx,x)+sp.integrate(fy,y)\n",
    "print(f)"
   ]
  },
  {
   "cell_type": "markdown",
   "metadata": {},
   "source": [
    "Q5.d"
   ]
  },
  {
   "cell_type": "code",
   "execution_count": 12,
   "metadata": {},
   "outputs": [
    {
     "name": "stdout",
     "output_type": "stream",
     "text": [
      "-x1**2/2 + x2**2/2 - y1**2/2 + y2**2/2\n"
     ]
    }
   ],
   "source": [
    "resultd=f.subs([(x,x2),(y,y2)])-f.subs([(x,x1),(y,y1)])\n",
    "print(resultd)"
   ]
  },
  {
   "cell_type": "markdown",
   "metadata": {},
   "source": [
    "Q6.a"
   ]
  },
  {
   "cell_type": "code",
   "execution_count": 13,
   "metadata": {},
   "outputs": [
    {
     "name": "stdout",
     "output_type": "stream",
     "text": [
      "0\n"
     ]
    }
   ],
   "source": [
    "R=ReferenceFrame('R')\n",
    "r=sp.sqrt(R[0]**2+R[1]**2+R[2]**2)\n",
    "F=R[0]/r**3*R.x+R[1]/r**3*R.y+R[2]/r**3*R.z\n",
    "div=sp.simplify(divergence(F,R))\n",
    "print(div)"
   ]
  },
  {
   "cell_type": "markdown",
   "metadata": {},
   "source": [
    "alternatively:"
   ]
  },
  {
   "cell_type": "code",
   "execution_count": 14,
   "metadata": {},
   "outputs": [
    {
     "name": "stdout",
     "output_type": "stream",
     "text": [
      "0\n"
     ]
    }
   ],
   "source": [
    "r=sp.sqrt(x**2+y**2+z**2)\n",
    "Px=sp.simplify(sp.diff(x/r**3,x))\n",
    "Qy=sp.simplify(sp.diff(y/r**3,y))\n",
    "Rz=sp.simplify(sp.diff(z/r**3,z))\n",
    "result=sp.simplify(Px+Qy+Rz)\n",
    "print(result)"
   ]
  },
  {
   "cell_type": "markdown",
   "metadata": {},
   "source": [
    "Q6.b"
   ]
  },
  {
   "cell_type": "code",
   "execution_count": 15,
   "metadata": {},
   "outputs": [
    {
     "name": "stdout",
     "output_type": "stream",
     "text": [
      "4*pi\n"
     ]
    }
   ],
   "source": [
    "a=sp.sqrt(R[0]**2+R[1]**2+R[2]**2)\n",
    "n1=R[0]/a*R.x+R[1]/a*R.y+R[2]/a*R.z\n",
    "F=R[0]/a**3*R.x+R[1]/a**3*R.y+R[2]/a**3*R.z\n",
    "Fn1=sp.simplify(dot(n1,F))\n",
    "result=4*sp.pi*a**2*Fn1\n",
    "print(result)"
   ]
  },
  {
   "cell_type": "markdown",
   "metadata": {},
   "source": [
    "Q7.a"
   ]
  },
  {
   "cell_type": "code",
   "execution_count": 16,
   "metadata": {},
   "outputs": [
    {
     "name": "stdout",
     "output_type": "stream",
     "text": [
      "0\n"
     ]
    }
   ],
   "source": [
    "R=ReferenceFrame('R')\n",
    "r=sp.sqrt(R[0]**2+R[1]**2)\n",
    "F=R[0]/r**2*R.x+R[1]/r**2*R.y\n",
    "div=sp.simplify(divergence(F,R))\n",
    "print(div)"
   ]
  },
  {
   "cell_type": "markdown",
   "metadata": {},
   "source": [
    "alternatively:"
   ]
  },
  {
   "cell_type": "code",
   "execution_count": 17,
   "metadata": {},
   "outputs": [
    {
     "name": "stdout",
     "output_type": "stream",
     "text": [
      "0\n"
     ]
    }
   ],
   "source": [
    "r=sp.sqrt(x**2+y**2)\n",
    "Px=sp.simplify(sp.diff(x/r**2,x))\n",
    "Qy=sp.simplify(sp.diff(y/r**2,y))\n",
    "result=sp.simplify(Px+Qy)\n",
    "print(result)"
   ]
  },
  {
   "cell_type": "markdown",
   "metadata": {},
   "source": [
    "Q7.b"
   ]
  },
  {
   "cell_type": "code",
   "execution_count": 18,
   "metadata": {},
   "outputs": [
    {
     "name": "stdout",
     "output_type": "stream",
     "text": [
      "2*pi\n"
     ]
    }
   ],
   "source": [
    "a=sp.sqrt(R[0]**2+R[1]**2)\n",
    "n1=R[0]/a*R.x+R[1]/a*R.y\n",
    "F=R[0]/a**2*R.x+R[1]/a**2*R.y\n",
    "Fn1=sp.simplify(dot(n1,F))\n",
    "result=2*sp.pi*a*Fn1\n",
    "print(result)"
   ]
  },
  {
   "cell_type": "code",
   "execution_count": null,
   "metadata": {
    "collapsed": true
   },
   "outputs": [],
   "source": []
  }
 ],
 "metadata": {
  "kernelspec": {
   "display_name": "Python 3",
   "language": "python",
   "name": "python3"
  },
  "language_info": {
   "codemirror_mode": {
    "name": "ipython",
    "version": 3
   },
   "file_extension": ".py",
   "mimetype": "text/x-python",
   "name": "python",
   "nbconvert_exporter": "python",
   "pygments_lexer": "ipython3",
   "version": "3.6.3"
  }
 },
 "nbformat": 4,
 "nbformat_minor": 2
}
