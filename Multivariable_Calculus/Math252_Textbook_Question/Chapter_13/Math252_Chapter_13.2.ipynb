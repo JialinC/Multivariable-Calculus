{
 "cells": [
  {
   "cell_type": "markdown",
   "metadata": {},
   "source": [
    "Example.1"
   ]
  },
  {
   "cell_type": "code",
   "execution_count": 1,
   "metadata": {},
   "outputs": [
    {
     "name": "stdout",
     "output_type": "stream",
     "text": [
      "3*t**2*R.x + (-t*exp(-t) + exp(-t))*R.y + 2*cos(2*t)*R.z\n"
     ]
    }
   ],
   "source": [
    "#a\n",
    "import sympy as sp\n",
    "import numpy as np\n",
    "from sympy.physics.vector import *\n",
    "R = ReferenceFrame('R')\n",
    "t = sp.symbols(\"t\")\n",
    "r = (1 + t**3)*R.x + t*sp.exp(-t)*R.y + sp.sin(2*t)*R.z\n",
    "rdt = r.diff(t,R)\n",
    "print(rdt)"
   ]
  },
  {
   "cell_type": "code",
   "execution_count": 2,
   "metadata": {},
   "outputs": [
    {
     "name": "stdout",
     "output_type": "stream",
     "text": [
      "sqrt(5)/5*R.y + 2*sqrt(5)/5*R.z\n"
     ]
    }
   ],
   "source": [
    "#b\n",
    "tangent = rdt.subs(t,0)\n",
    "tangent = tangent.normalize()\n",
    "print(tangent)"
   ]
  },
  {
   "cell_type": "markdown",
   "metadata": {},
   "source": [
    "Example.2"
   ]
  },
  {
   "cell_type": "code",
   "execution_count": 3,
   "metadata": {},
   "outputs": [
    {
     "name": "stdout",
     "output_type": "stream",
     "text": [
      "R.x + R.y\n",
      "1/2*R.x - R.y\n"
     ]
    }
   ],
   "source": [
    "r = sp.sqrt(t)*R.x + (2-t)*R.y\n",
    "rdt = r.diff(t,R)\n",
    "r1 = r.subs(t,1)\n",
    "rdt1 = rdt.subs(t,1)\n",
    "print(r1)\n",
    "print(rdt1)"
   ]
  },
  {
   "cell_type": "markdown",
   "metadata": {},
   "source": [
    "Example.3"
   ]
  },
  {
   "cell_type": "code",
   "execution_count": 4,
   "metadata": {},
   "outputs": [
    {
     "name": "stdout",
     "output_type": "stream",
     "text": [
      "- 2*t*R.x + R.y + (t + pi/2)*R.z\n"
     ]
    }
   ],
   "source": [
    "r = 2*sp.cos(t)*R.x + sp.sin(t)*R.y + t*R.z\n",
    "rdt = r.diff(t,R)\n",
    "rdt1 = rdt.subs(t,sp.pi/2)\n",
    "line = r.subs(t,sp.pi/2) + t*rdt1\n",
    "print(line)"
   ]
  },
  {
   "cell_type": "markdown",
   "metadata": {},
   "source": [
    "Example.5"
   ]
  },
  {
   "cell_type": "code",
   "execution_count": 5,
   "metadata": {},
   "outputs": [
    {
     "name": "stdout",
     "output_type": "stream",
     "text": [
      "2*sin(t)*R.x - cos(t)*R.y + t**2*R.z\n"
     ]
    }
   ],
   "source": [
    "x = 2*sp.cos(t)\n",
    "y = sp.sin(t)\n",
    "z = 2*t\n",
    "inte_x = sp.integrate(x,t)\n",
    "inte_y = sp.integrate(y,t)\n",
    "inte_z = sp.integrate(z,t)\n",
    "r = sp.integrate(x,t)*R.x + sp.integrate(y,t)*R.y + sp.integrate(z,t)*R.z\n",
    "print(r)"
   ]
  },
  {
   "cell_type": "code",
   "execution_count": null,
   "metadata": {
    "collapsed": true
   },
   "outputs": [],
   "source": []
  }
 ],
 "metadata": {
  "kernelspec": {
   "display_name": "Python 3",
   "language": "python",
   "name": "python3"
  },
  "language_info": {
   "codemirror_mode": {
    "name": "ipython",
    "version": 3
   },
   "file_extension": ".py",
   "mimetype": "text/x-python",
   "name": "python",
   "nbconvert_exporter": "python",
   "pygments_lexer": "ipython3",
   "version": "3.6.3"
  }
 },
 "nbformat": 4,
 "nbformat_minor": 2
}
