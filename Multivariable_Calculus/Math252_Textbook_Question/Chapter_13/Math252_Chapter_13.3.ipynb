{
 "cells": [
  {
   "cell_type": "markdown",
   "metadata": {},
   "source": [
    "Example.1"
   ]
  },
  {
   "cell_type": "code",
   "execution_count": 1,
   "metadata": {},
   "outputs": [
    {
     "name": "stdout",
     "output_type": "stream",
     "text": [
      "2*sqrt(2)*pi\n"
     ]
    }
   ],
   "source": [
    "import sympy as sp\n",
    "from sympy.physics.vector import *\n",
    "R = ReferenceFrame('R')\n",
    "t = sp.symbols(\"t\")\n",
    "r = sp.cos(t)*R.x + sp.sin(t)*R.y + t*R.z\n",
    "rdt = r.diff(t,R)\n",
    "r_magnitude = sp.simplify(rdt.magnitude())\n",
    "integrate = sp.integrate(r_magnitude,(t,0,2*sp.pi))\n",
    "print(integrate)"
   ]
  },
  {
   "cell_type": "markdown",
   "metadata": {},
   "source": [
    "Example.3"
   ]
  },
  {
   "cell_type": "code",
   "execution_count": 2,
   "metadata": {},
   "outputs": [
    {
     "name": "stdout",
     "output_type": "stream",
     "text": [
      "1/sqrt(a**2)\n"
     ]
    }
   ],
   "source": [
    "a = sp.symbols(\"a\")\n",
    "r = a*sp.cos(t)*R.x + a*sp.sin(t)*R.y \n",
    "rdt = r.diff(t,R)\n",
    "r_magnitude = sp.simplify(rdt.magnitude())\n",
    "Tt = rdt/r_magnitude\n",
    "Tdt = Tt.diff(t,R)\n",
    "Tdt_magnitude = sp.simplify(Tdt.magnitude())\n",
    "curvature = Tdt_magnitude/r_magnitude\n",
    "print(curvature)"
   ]
  },
  {
   "cell_type": "markdown",
   "metadata": {},
   "source": [
    "Example.4"
   ]
  },
  {
   "cell_type": "code",
   "execution_count": 3,
   "metadata": {},
   "outputs": [
    {
     "name": "stdout",
     "output_type": "stream",
     "text": [
      "2\n"
     ]
    }
   ],
   "source": [
    "r = t*R.x + t**2*R.y + t**3*R.z\n",
    "rdt = r.diff(t,R)\n",
    "r_magnitude = sp.simplify(rdt.magnitude())\n",
    "Tt = rdt/r_magnitude\n",
    "Tdt = Tt.diff(t,R)\n",
    "Tdt_magnitude = sp.simplify(Tdt.magnitude())\n",
    "curvature = Tdt_magnitude/r_magnitude\n",
    "print(curvature.subs(t,0))"
   ]
  },
  {
   "cell_type": "markdown",
   "metadata": {},
   "source": [
    "Example.5"
   ]
  },
  {
   "cell_type": "code",
   "execution_count": 4,
   "metadata": {},
   "outputs": [
    {
     "name": "stdout",
     "output_type": "stream",
     "text": [
      "2\n",
      "0.178885438199983\n",
      "0.0285336029454509\n"
     ]
    }
   ],
   "source": [
    "x = sp.symbols(\"x\")\n",
    "y = x**2\n",
    "ydx = sp.diff(y,x)\n",
    "ydxdx = sp.diff(ydx,x)\n",
    "curvature = ydxdx/(1 + ydx**2)**(3/2)\n",
    "print(curvature.subs(x,0))\n",
    "print(curvature.subs(x,1))\n",
    "print(curvature.subs(x,2))"
   ]
  },
  {
   "cell_type": "markdown",
   "metadata": {},
   "source": [
    "Example.6"
   ]
  },
  {
   "cell_type": "code",
   "execution_count": 5,
   "metadata": {},
   "outputs": [
    {
     "name": "stdout",
     "output_type": "stream",
     "text": [
      "- cos(t)*R.x - sin(t)*R.y\n",
      "sqrt(2)*sin(t)/2*R.x - sqrt(2)*cos(t)/2*R.y + sqrt(2)/2*R.z\n"
     ]
    }
   ],
   "source": [
    "r = sp.cos(t)*R.x + sp.sin(t)*R.y + t*R.z\n",
    "rdt = r.diff(t,R)\n",
    "r_magnitude = sp.simplify(rdt.magnitude())\n",
    "Tt = rdt/r_magnitude\n",
    "Tdt = Tt.diff(t,R)\n",
    "Tdt_magnitude = sp.simplify(Tdt.magnitude())\n",
    "Nt = Tdt/Tdt_magnitude\n",
    "Bt = Tt.cross(Nt)\n",
    "print(Nt)\n",
    "print(Bt.simplify())"
   ]
  },
  {
   "cell_type": "markdown",
   "metadata": {},
   "source": [
    "Example.7"
   ]
  },
  {
   "cell_type": "code",
   "execution_count": 6,
   "metadata": {},
   "outputs": [
    {
     "name": "stdout",
     "output_type": "stream",
     "text": [
      "-x + z - pi/2\n",
      "sqrt(2)*x/2 + sqrt(2)*(z - pi/2)/2\n"
     ]
    }
   ],
   "source": [
    "n_v = rdt.subs(t,sp.pi/2)\n",
    "x,y,z = sp.symbols('x y z')\n",
    "P=0*R.x+1*R.y+sp.pi/2*R.z\n",
    "point=x*R.x+y*R.y+z*R.z\n",
    "v=point-P\n",
    "normal_plane = n_v.dot(v)\n",
    "print(normal_plane)\n",
    "\n",
    "B = Bt.subs(t,sp.pi/2)\n",
    "osculatin_plane = B.dot(v)\n",
    "print(osculatin_plane)"
   ]
  },
  {
   "cell_type": "code",
   "execution_count": null,
   "metadata": {
    "collapsed": true
   },
   "outputs": [],
   "source": []
  }
 ],
 "metadata": {
  "kernelspec": {
   "display_name": "Python 3",
   "language": "python",
   "name": "python3"
  },
  "language_info": {
   "codemirror_mode": {
    "name": "ipython",
    "version": 3
   },
   "file_extension": ".py",
   "mimetype": "text/x-python",
   "name": "python",
   "nbconvert_exporter": "python",
   "pygments_lexer": "ipython3",
   "version": "3.6.3"
  }
 },
 "nbformat": 4,
 "nbformat_minor": 2
}
