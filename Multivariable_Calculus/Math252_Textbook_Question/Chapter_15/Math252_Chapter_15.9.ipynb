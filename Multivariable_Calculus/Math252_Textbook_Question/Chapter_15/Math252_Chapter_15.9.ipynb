{
 "cells": [
  {
   "cell_type": "markdown",
   "metadata": {},
   "source": [
    "Example.4"
   ]
  },
  {
   "cell_type": "code",
   "execution_count": 1,
   "metadata": {},
   "outputs": [
    {
     "name": "stdout",
     "output_type": "stream",
     "text": [
      "pi/8\n"
     ]
    }
   ],
   "source": [
    "import sympy as sp\n",
    "x,y,z,rho,theta,phi = sp.symbols(\"x y z rho theta phi\",real=True)\n",
    "V=sp.integrate(sp.integrate(sp.integrate(rho**2*sp.sin(phi),(rho,0,sp.cos(phi))),(phi,0,sp.pi/4)),(theta,0,2*sp.pi))\n",
    "print(V)"
   ]
  },
  {
   "cell_type": "code",
   "execution_count": null,
   "metadata": {
    "collapsed": true
   },
   "outputs": [],
   "source": []
  }
 ],
 "metadata": {
  "kernelspec": {
   "display_name": "Python 3",
   "language": "python",
   "name": "python3"
  },
  "language_info": {
   "codemirror_mode": {
    "name": "ipython",
    "version": 3
   },
   "file_extension": ".py",
   "mimetype": "text/x-python",
   "name": "python",
   "nbconvert_exporter": "python",
   "pygments_lexer": "ipython3",
   "version": "3.6.3"
  }
 },
 "nbformat": 4,
 "nbformat_minor": 2
}
