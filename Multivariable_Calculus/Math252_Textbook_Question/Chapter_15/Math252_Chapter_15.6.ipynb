{
 "cells": [
  {
   "cell_type": "markdown",
   "metadata": {},
   "source": [
    "Example.1"
   ]
  },
  {
   "cell_type": "code",
   "execution_count": 1,
   "metadata": {},
   "outputs": [
    {
     "name": "stdout",
     "output_type": "stream",
     "text": [
      "-5*sqrt(5)/12 + 9/4\n"
     ]
    }
   ],
   "source": [
    "import sympy as sp\n",
    "x,y = sp.symbols(\"x y\")\n",
    "f=x**2+2*y\n",
    "fx=sp.diff(f,x)\n",
    "fy=sp.diff(f,y)\n",
    "A=sp.sqrt(1+fx**2+fy**2)\n",
    "result=sp.integrate(sp.integrate(A,(y,0,x)),(x,0,1))\n",
    "print(result)"
   ]
  },
  {
   "cell_type": "markdown",
   "metadata": {},
   "source": [
    "Example.2"
   ]
  },
  {
   "cell_type": "code",
   "execution_count": 2,
   "metadata": {},
   "outputs": [
    {
     "name": "stdout",
     "output_type": "stream",
     "text": [
      "-pi/6 + 37*sqrt(37)*pi/6\n"
     ]
    }
   ],
   "source": [
    "theta,r,x,y = sp.symbols(\"theta r x y\")\n",
    "x=r*sp.cos(theta)\n",
    "y=r*sp.sin(theta)\n",
    "A=sp.sqrt(1+4*x**2+4*y**2)\n",
    "result=sp.integrate(sp.integrate(A*r,(r,0,3)),(theta,0,2*sp.pi))\n",
    "print(result)"
   ]
  },
  {
   "cell_type": "code",
   "execution_count": null,
   "metadata": {
    "collapsed": true
   },
   "outputs": [],
   "source": []
  }
 ],
 "metadata": {
  "kernelspec": {
   "display_name": "Python 3",
   "language": "python",
   "name": "python3"
  },
  "language_info": {
   "codemirror_mode": {
    "name": "ipython",
    "version": 3
   },
   "file_extension": ".py",
   "mimetype": "text/x-python",
   "name": "python",
   "nbconvert_exporter": "python",
   "pygments_lexer": "ipython3",
   "version": "3.6.3"
  }
 },
 "nbformat": 4,
 "nbformat_minor": 2
}
