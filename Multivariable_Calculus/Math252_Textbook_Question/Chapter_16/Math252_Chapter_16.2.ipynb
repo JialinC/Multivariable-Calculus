{
 "cells": [
  {
   "cell_type": "markdown",
   "metadata": {},
   "source": [
    "Example.1"
   ]
  },
  {
   "cell_type": "code",
   "execution_count": 30,
   "metadata": {},
   "outputs": [
    {
     "name": "stdout",
     "output_type": "stream",
     "text": [
      "2/3 + 2*pi\n"
     ]
    }
   ],
   "source": [
    "import sympy as sp\n",
    "import numpy as np\n",
    "x,y,t = sp.symbols(\"x y t\")\n",
    "x = sp.cos(t)\n",
    "y = sp.sin(t)\n",
    "xt = sp.diff(x,t)\n",
    "yt = sp.diff(y,t)\n",
    "f = 2+x**2*y\n",
    "ans = sp.integrate(f*sp.sqrt(xt**2+yt**2),(t,0,sp.pi))\n",
    "print(ans)"
   ]
  },
  {
   "cell_type": "markdown",
   "metadata": {},
   "source": [
    "Example.2"
   ]
  },
  {
   "cell_type": "code",
   "execution_count": 31,
   "metadata": {},
   "outputs": [
    {
     "name": "stdout",
     "output_type": "stream",
     "text": [
      "11/6 + 5*sqrt(5)/6\n"
     ]
    }
   ],
   "source": [
    "x,y = sp.symbols(\"x y\")\n",
    "f=2*x\n",
    "C1=sp.integrate(f*sp.sqrt(1+4*x**2),(x,0,1))\n",
    "C2=sp.integrate(2,(y,1,2))\n",
    "ans=C1+C2\n",
    "print(ans)"
   ]
  },
  {
   "cell_type": "markdown",
   "metadata": {},
   "source": [
    "Example.3"
   ]
  },
  {
   "cell_type": "code",
   "execution_count": 32,
   "metadata": {},
   "outputs": [
    {
     "name": "stdout",
     "output_type": "stream",
     "text": [
      "(0, (-4 + pi)/(2*(-pi + 2)))\n"
     ]
    }
   ],
   "source": [
    "x,y,k,rho,t = sp.symbols(\"x y k rho t\")\n",
    "x = sp.cos(t)\n",
    "y = sp.sin(t)\n",
    "rho = k*(1-y)\n",
    "m = sp.integrate(rho,(t,0,sp.pi))\n",
    "ybar = 1/m*sp.integrate(rho*y,(t,0,sp.pi))\n",
    "ybar = sp.simplify(ybar)\n",
    "xbar = 0\n",
    "print((xbar,ybar))"
   ]
  },
  {
   "cell_type": "markdown",
   "metadata": {},
   "source": [
    "Example.4"
   ]
  },
  {
   "cell_type": "code",
   "execution_count": 33,
   "metadata": {},
   "outputs": [
    {
     "name": "stdout",
     "output_type": "stream",
     "text": [
      "-5/6\n",
      "245/6\n"
     ]
    }
   ],
   "source": [
    "#a\n",
    "x,y,t = sp.symbols(\"x y t\")\n",
    "x=5*t-5\n",
    "y=5*t-3\n",
    "dx=sp.diff(x,t)\n",
    "dy=sp.diff(y,t)\n",
    "ansa = sp.integrate(y**2*dx+x*dy,(t,0,1))\n",
    "print(ansa)\n",
    "#b\n",
    "x,y,t = sp.symbols(\"x y t\")\n",
    "x=4-y**2\n",
    "dx=sp.diff(x,y)\n",
    "dy=sp.diff(y,y)\n",
    "ansb = sp.integrate(y**2*dx+x*dy,(y,-3,2))\n",
    "print(ansb)"
   ]
  },
  {
   "cell_type": "markdown",
   "metadata": {},
   "source": [
    "Example.5"
   ]
  },
  {
   "cell_type": "code",
   "execution_count": 34,
   "metadata": {},
   "outputs": [
    {
     "name": "stdout",
     "output_type": "stream",
     "text": [
      "sqrt(2)*pi\n"
     ]
    }
   ],
   "source": [
    "x,y,z,t = sp.symbols(\"x y z t\")\n",
    "x=sp.cos(t)\n",
    "y=sp.sin(t)\n",
    "z=t\n",
    "f=y*sp.sin(z)\n",
    "dx=sp.diff(x,t)\n",
    "dy=sp.diff(y,t)\n",
    "dz=sp.diff(z,t)\n",
    "ans = sp.integrate(f*sp.sqrt(dx**2+dy**2+dz**2),(t,0,2*sp.pi))\n",
    "print(ans)"
   ]
  },
  {
   "cell_type": "markdown",
   "metadata": {},
   "source": [
    "Example.6"
   ]
  },
  {
   "cell_type": "code",
   "execution_count": 35,
   "metadata": {},
   "outputs": [
    {
     "name": "stdout",
     "output_type": "stream",
     "text": [
      "49/2\n"
     ]
    }
   ],
   "source": [
    "x,y,z,t = sp.symbols(\"x y z t\")\n",
    "x=2+t\n",
    "y=4*t\n",
    "z=5*t\n",
    "dx=sp.diff(x,t)\n",
    "dy=sp.diff(y,t)\n",
    "dz=sp.diff(z,t)\n",
    "ans = sp.integrate(y*dx+z*dy+x*dz,(t,0,1))\n",
    "print(ans)"
   ]
  },
  {
   "cell_type": "markdown",
   "metadata": {},
   "source": [
    "Example.7"
   ]
  },
  {
   "cell_type": "code",
   "execution_count": 36,
   "metadata": {},
   "outputs": [
    {
     "name": "stdout",
     "output_type": "stream",
     "text": [
      "-2/3\n"
     ]
    }
   ],
   "source": [
    "from sympy.physics.vector import *\n",
    "x,y,t = sp.symbols(\"x y t\")\n",
    "R = ReferenceFrame('R')\n",
    "Frt = sp.cos(t)**2*R.x - sp.sin(t)*sp.cos(t)*R.y\n",
    "rt = sp.cos(t)*R.x + sp.sin(t)*R.y\n",
    "rdt = rt.diff(t,R)\n",
    "ans = sp.integrate(Frt.dot(rdt),(t,0,sp.pi/2))\n",
    "print(ans)"
   ]
  },
  {
   "cell_type": "markdown",
   "metadata": {},
   "source": [
    "Example.8"
   ]
  },
  {
   "cell_type": "code",
   "execution_count": 37,
   "metadata": {},
   "outputs": [
    {
     "name": "stdout",
     "output_type": "stream",
     "text": [
      "27/28\n"
     ]
    }
   ],
   "source": [
    "x,y,z,t = sp.symbols(\"x y z t\")\n",
    "R = ReferenceFrame('R')\n",
    "x=t\n",
    "y=t**2\n",
    "z=t**3\n",
    "Frt = x*y*R.x + y*z*R.y + z*x*R.z \n",
    "rt = x*R.x + y*R.y + z*R.z\n",
    "rdt = rt.diff(t,R)\n",
    "ans = sp.integrate(Frt.dot(rdt),(t,0,1))\n",
    "print(ans)"
   ]
  },
  {
   "cell_type": "code",
   "execution_count": null,
   "metadata": {
    "collapsed": true
   },
   "outputs": [],
   "source": []
  }
 ],
 "metadata": {
  "kernelspec": {
   "display_name": "Python 3",
   "language": "python",
   "name": "python3"
  },
  "language_info": {
   "codemirror_mode": {
    "name": "ipython",
    "version": 3
   },
   "file_extension": ".py",
   "mimetype": "text/x-python",
   "name": "python",
   "nbconvert_exporter": "python",
   "pygments_lexer": "ipython3",
   "version": "3.6.3"
  }
 },
 "nbformat": 4,
 "nbformat_minor": 2
}
