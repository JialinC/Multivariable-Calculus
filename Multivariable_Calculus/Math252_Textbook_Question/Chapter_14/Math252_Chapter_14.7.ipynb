{
 "cells": [
  {
   "cell_type": "markdown",
   "metadata": {},
   "source": [
    "Example.2"
   ]
  },
  {
   "cell_type": "code",
   "execution_count": 1,
   "metadata": {},
   "outputs": [
    {
     "name": "stdout",
     "output_type": "stream",
     "text": [
      "{y: 0, x: 0}\n",
      "0\n"
     ]
    }
   ],
   "source": [
    "import sympy as sp\n",
    "x,y = sp.symbols('x y')\n",
    "f = y**2+x**2\n",
    "fx = sp.diff(f,x)\n",
    "fy = sp.diff(f,y)\n",
    "a = sp.solve((fx,fy))\n",
    "print(a) #the only solution (0,0)\n",
    "extreme = f.subs([[x,0],[y,0]])\n",
    "print(extreme)"
   ]
  },
  {
   "cell_type": "markdown",
   "metadata": {},
   "source": [
    "Example.3"
   ]
  },
  {
   "cell_type": "code",
   "execution_count": 2,
   "metadata": {},
   "outputs": [
    {
     "name": "stdout",
     "output_type": "stream",
     "text": [
      "144*x**2*y**2 - 16\n",
      "[{x: -1, y: -1}, {x: 0, y: 0}, {x: 1, y: 1}]\n",
      "(0,0) is a saddle point\n",
      "(1,1) is a local minimum\n",
      "(-1,-1) is a local minimum\n",
      "-1 -1\n"
     ]
    }
   ],
   "source": [
    "x,y = sp.symbols('x y', real=True)\n",
    "f = x**4 + y**4 - 4*x*y + 1\n",
    "fx = sp.diff(f,x)\n",
    "fxx = sp.diff(f,x,2)\n",
    "fy = sp.diff(f,y)\n",
    "fyy = sp.diff(f,y,2)\n",
    "fxy = sp.diff(f,x,y)\n",
    "D = fxx*fyy - fxy**2\n",
    "print(D)\n",
    "a = sp.solve((fx,fy))\n",
    "print(a)\n",
    "D1 = D.subs([[x,0],[y,0]])\n",
    "fxx1 = fxx.subs([[x,0],[y,0]])\n",
    "if D1 < 0:\n",
    "    print('(0,0) is a saddle point')\n",
    "else:\n",
    "    if fxx1 > 0:\n",
    "        print('(0,0) is a local minimum')\n",
    "    else:\n",
    "        print('(0,0) is a local maximum')\n",
    "D2 = D.subs([[x,1],[y,1]])\n",
    "fxx2 = fxx.subs([[x,1],[y,1]])\n",
    "if D2 < 0:\n",
    "    print('(1,1) is a saddle point')\n",
    "else:\n",
    "    if fxx2 > 0:\n",
    "        print('(1,1) is a local minimum')\n",
    "    else:\n",
    "        print('(1,1) is a local maximum')\n",
    "D3 = D.subs([[x,-1],[y,-1]])\n",
    "fxx1 = fxx.subs([[x,-1],[y,-1]])\n",
    "if D2 < 0:\n",
    "    print('(-1,-1) is a saddle point')\n",
    "else:\n",
    "    if fxx2 > 0:\n",
    "        print('(-1,-1) is a local minimum')\n",
    "    else:\n",
    "        print('(-1,-1) is a local maximum')\n",
    "v1 = f.subs([[x,1],[y,1]])\n",
    "v2 = f.subs([[x,-1],[y,-1]])\n",
    "print(v1,v2)"
   ]
  },
  {
   "cell_type": "markdown",
   "metadata": {},
   "source": [
    "Example.4"
   ]
  },
  {
   "cell_type": "code",
   "execution_count": 3,
   "metadata": {},
   "outputs": [
    {
     "name": "stdout",
     "output_type": "stream",
     "text": [
      "-400*x**2 - 16*(3*y**2 + 1)*(-6*x**2 + 10*y - 5)\n",
      "[-0.85665687  0.6467722 ]\n",
      "[ 0.85665687  0.6467722 ]\n",
      "[ 2.6442243   1.89838443]\n",
      "[-2.6442243   1.89838443]\n",
      "[ 0.  0.]\n",
      "(-0.86,0.65) is a saddle point\n",
      "(0.86,0.65) is a saddle point\n",
      "(2.64,1.90) is a local maximum\n",
      "f(2.64,1.90) is 8.49585812843830\n",
      "(-2.64,1.90) is a local maximum\n",
      "f(-2.64,1.90) is 8.49585812843830\n",
      "(0,0) is a local maximum\n",
      "f(0,0) is 0\n"
     ]
    }
   ],
   "source": [
    "import numpy as np\n",
    "from scipy.optimize import *\n",
    "x,y = sp.symbols('x y',real = True)\n",
    "f = 10*x**2*y - 5*x**2 - 4*y**2 - x**4 - 2*y**4\n",
    "fx = sp.diff(f,x)\n",
    "fxx = sp.diff(f,x,2)\n",
    "fy = sp.diff(f,y)\n",
    "fyy = sp.diff(f,y,2)\n",
    "fxy = sp.diff(f,x,y)\n",
    "D = fxx*fyy - fxy**2\n",
    "print(D)\n",
    "\n",
    "def fun(z):\n",
    "    x = z[0]\n",
    "    y = z[1]\n",
    "    F = np.empty((2))\n",
    "    F[0] = -4*pow(x,3) + 20*x*y - 10*x\n",
    "    F[1] = 10*pow(x,2) - 8*pow(y,3) - 8*y\n",
    "    return F\n",
    "\n",
    "solution1 = np.array([-1,1])\n",
    "solution1 = fsolve(fun,solution1)\n",
    "print(solution1)\n",
    "\n",
    "solution2 = np.array([1,1])\n",
    "solution2 = fsolve(fun,solution2)\n",
    "print(solution2)\n",
    "\n",
    "solution3 = np.array([3,2])\n",
    "solution3 = fsolve(fun,solution3)\n",
    "print(solution3)\n",
    "\n",
    "solution4 = np.array([-3,2])\n",
    "solution4 = fsolve(fun,solution4)\n",
    "print(solution4)\n",
    "\n",
    "solution5 = np.array([0,0])\n",
    "solution5 = fsolve(fun,solution5)\n",
    "print(solution5)\n",
    "\n",
    "f1 = f.subs([[x,solution1[0]],[y,solution1[1]]])\n",
    "f2 = f.subs([[x,solution2[0]],[y,solution2[1]]])\n",
    "f3 = f.subs([[x,solution3[0]],[y,solution3[1]]])\n",
    "f4 = f.subs([[x,solution4[0]],[y,solution4[1]]])\n",
    "f5 = f.subs([[x,solution5[0]],[y,solution5[1]]])\n",
    "\n",
    "D1 = D.subs([[x,solution1[0]],[y,solution1[1]]])\n",
    "fxx1 = fxx.subs([[x,solution1[0]],[y,solution1[1]]])\n",
    "if D1 < 0:\n",
    "    print('(-0.86,0.65) is a saddle point')\n",
    "else:\n",
    "    if fxx1 > 0:\n",
    "        print('(-0.86,0.65) is a local minimum')\n",
    "        print('f(-0.86,0.65) is',f1)\n",
    "    else:\n",
    "        print('(-0.86,0.65) is a local maximum')\n",
    "        print('f(-0.86,0.65) is',f1)\n",
    "\n",
    "D2 = D.subs([[x,solution2[0]],[y,solution2[1]]])\n",
    "fxx2 = fxx.subs([[x,solution2[0]],[y,solution2[1]]])\n",
    "if D2 < 0:\n",
    "    print('(0.86,0.65) is a saddle point')\n",
    "else:\n",
    "    if fxx2 > 0:\n",
    "        print('(0.86,0.65) is a local minimum')\n",
    "        print('f(0.86,0.65) is',f2)\n",
    "    else:\n",
    "        print('(0.86,0.65) is a local maximum')\n",
    "        print('f(0.86,0.65) is',f2)\n",
    "\n",
    "D3 = D.subs([[x,solution3[0]],[y,solution3[1]]])\n",
    "fxx3 = fxx.subs([[x,solution3[0]],[y,solution3[1]]])\n",
    "if D3 < 0:\n",
    "    print('(2.64,1.90) is a saddle point')\n",
    "else:\n",
    "    if fxx3 > 0:\n",
    "        print('(2.64,1.90) is a local minimum')\n",
    "        print('f(2.64,1.90) is',f3)\n",
    "        \n",
    "    else:\n",
    "        print('(2.64,1.90) is a local maximum')\n",
    "        print('f(2.64,1.90) is',f3)\n",
    "        \n",
    "D4=D.subs([[x,solution4[0]],[y,solution4[1]]])\n",
    "fxx4=fxx.subs([[x,solution4[0]],[y,solution4[1]]])\n",
    "if D4 < 0:\n",
    "    print('(-2.64,1.90) is a saddle point')\n",
    "else:\n",
    "    if fxx4 > 0:\n",
    "        print('(-2.64,1.90) is a local minimum')\n",
    "        print('f(-2.64,1.90) is',f4)\n",
    "    else:\n",
    "        print('(-2.64,1.90) is a local maximum')\n",
    "        print('f(-2.64,1.90) is',f4)\n",
    "\n",
    "D5=D.subs([[x,solution5[0]],[y,solution5[1]]])\n",
    "fxx5=fxx.subs([[x,solution5[0]],[y,solution5[1]]])\n",
    "if D5 < 0:\n",
    "    print('(0,0) is a saddle point')\n",
    "else:\n",
    "    if fxx5 > 0:\n",
    "        print('(0,0) is a local minimum')\n",
    "        print('f(0,0) is',f5)\n",
    "    else:\n",
    "        print('(0,0) is a local maximum')\n",
    "        print('f(0,0) is',f5)"
   ]
  },
  {
   "cell_type": "markdown",
   "metadata": {},
   "source": [
    "Example.5"
   ]
  },
  {
   "cell_type": "code",
   "execution_count": 4,
   "metadata": {},
   "outputs": [
    {
     "name": "stdout",
     "output_type": "stream",
     "text": [
      "(1.833333333333334,1.6666666666666663) is a local minimum point\n",
      "minimum value is 2.04124145231932\n"
     ]
    }
   ],
   "source": [
    "x,y,z = sp.symbols('x y z',real = True)\n",
    "f = (x - 1)**2 + y**2 + (6 - x - 2*y)**2\n",
    "fx = sp.diff(f,x)\n",
    "fxx = sp.diff(f,x,2)\n",
    "fy = sp.diff(f,y)\n",
    "fyy = sp.diff(f,y,2)\n",
    "fxy = sp.diff(f,x,y)\n",
    "D = fxx*fyy - fxy**2\n",
    "\n",
    "def fun(z):\n",
    "    x = z[0]\n",
    "    y = z[1]\n",
    "    F = np.empty((2))\n",
    "    F[0] = 4*x + 4*y - 14\n",
    "    F[1] = 4*x + 10*y - 24\n",
    "    return F\n",
    "\n",
    "solution = np.array([0,0])\n",
    "solution = fsolve(fun,solution)\n",
    "\n",
    "answer = sp.sqrt(f.subs([[x,solution[0]],[y,solution[1]]]))\n",
    "fxx = fxx.subs([[x,solution[0]],[y,solution[1]]])\n",
    "if D < 0:\n",
    "    print('({0},{1}) is a saddle point'.format(solution[0],solution[1]))\n",
    "else:\n",
    "    if fxx > 0:\n",
    "        print('({0},{1}) is a local minimum point'.format(solution[0],solution[1]))\n",
    "        print('minimum value is {0}'.format(answer))\n",
    "    else:\n",
    "        print('({0},{1}) is a local maximum point'.format(solution[0],solution[1]))\n",
    "        print('maximum value is {0}'.format(answer))"
   ]
  },
  {
   "cell_type": "code",
   "execution_count": null,
   "metadata": {
    "collapsed": true
   },
   "outputs": [],
   "source": []
  }
 ],
 "metadata": {
  "kernelspec": {
   "display_name": "Python 3",
   "language": "python",
   "name": "python3"
  },
  "language_info": {
   "codemirror_mode": {
    "name": "ipython",
    "version": 3
   },
   "file_extension": ".py",
   "mimetype": "text/x-python",
   "name": "python",
   "nbconvert_exporter": "python",
   "pygments_lexer": "ipython3",
   "version": "3.6.3"
  }
 },
 "nbformat": 4,
 "nbformat_minor": 2
}
