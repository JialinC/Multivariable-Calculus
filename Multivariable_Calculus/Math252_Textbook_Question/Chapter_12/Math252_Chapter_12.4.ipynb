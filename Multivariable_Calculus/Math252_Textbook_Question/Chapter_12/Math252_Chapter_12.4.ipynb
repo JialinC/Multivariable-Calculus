{
 "cells": [
  {
   "cell_type": "markdown",
   "metadata": {},
   "source": [
    "Example.1"
   ]
  },
  {
   "cell_type": "code",
   "execution_count": 1,
   "metadata": {},
   "outputs": [
    {
     "name": "stdout",
     "output_type": "stream",
     "text": [
      "[-43  13   1]\n"
     ]
    }
   ],
   "source": [
    "import numpy as np\n",
    "a = np.array([1,3,4]) \n",
    "b = np.array([2,7,-5])\n",
    "ans = np.cross(a,b)\n",
    "print(ans)"
   ]
  },
  {
   "cell_type": "markdown",
   "metadata": {},
   "source": [
    "Example.2"
   ]
  },
  {
   "cell_type": "code",
   "execution_count": 2,
   "metadata": {},
   "outputs": [
    {
     "name": "stdout",
     "output_type": "stream",
     "text": [
      "[0 0 0]\n"
     ]
    }
   ],
   "source": [
    "from sympy import *\n",
    "a1,a2,a3 = symbols(\"a1 a2 a3\")\n",
    "a = np.array([a1,a2,a3])\n",
    "ans = np.cross(a,a)\n",
    "print(ans)"
   ]
  },
  {
   "cell_type": "markdown",
   "metadata": {},
   "source": [
    "Example.3"
   ]
  },
  {
   "cell_type": "code",
   "execution_count": 3,
   "metadata": {},
   "outputs": [
    {
     "name": "stdout",
     "output_type": "stream",
     "text": [
      "[-40 -15  15]\n"
     ]
    }
   ],
   "source": [
    "P = np.array([1,4,6]) \n",
    "Q = np.array([-2,5,-1])\n",
    "R = np.array([1,-1,1])\n",
    "PQ = Q - P\n",
    "PR = R - P\n",
    "ans = np.cross(PQ,PR)\n",
    "print(ans)"
   ]
  },
  {
   "cell_type": "markdown",
   "metadata": {},
   "source": [
    "Example.4"
   ]
  },
  {
   "cell_type": "code",
   "execution_count": 4,
   "metadata": {},
   "outputs": [
    {
     "name": "stdout",
     "output_type": "stream",
     "text": [
      "22.6384628453\n"
     ]
    }
   ],
   "source": [
    "P = np.array([1,4,6]) \n",
    "Q = np.array([-2,5,-1])\n",
    "R = np.array([1,-1,1])\n",
    "PQ = Q - P\n",
    "PR = R - P\n",
    "cross_product = np.cross(PQ,PR)\n",
    "norm_cross = np.linalg.norm(cross_product)\n",
    "area = 0.5*norm_cross\n",
    "print(area)"
   ]
  },
  {
   "cell_type": "markdown",
   "metadata": {},
   "source": [
    "Example.5"
   ]
  },
  {
   "cell_type": "code",
   "execution_count": 5,
   "metadata": {},
   "outputs": [
    {
     "name": "stdout",
     "output_type": "stream",
     "text": [
      "0\n"
     ]
    }
   ],
   "source": [
    "a = np.array([1,4,-7]) \n",
    "b = np.array([2,-1,4])\n",
    "c = np.array([0,-9,18])\n",
    "triple_product = a.dot(np.cross(b,c))\n",
    "print(triple_product)"
   ]
  },
  {
   "cell_type": "markdown",
   "metadata": {},
   "source": [
    "Example.6"
   ]
  },
  {
   "cell_type": "code",
   "execution_count": 6,
   "metadata": {},
   "outputs": [
    {
     "name": "stdout",
     "output_type": "stream",
     "text": [
      "9.65925826289\n"
     ]
    }
   ],
   "source": [
    "r = 0.25\n",
    "F = 40\n",
    "theta = 75/180*np.pi\n",
    "torque = r*F*np.sin(theta)\n",
    "print(torque)"
   ]
  },
  {
   "cell_type": "code",
   "execution_count": null,
   "metadata": {
    "collapsed": true
   },
   "outputs": [],
   "source": []
  }
 ],
 "metadata": {
  "kernelspec": {
   "display_name": "Python 3",
   "language": "python",
   "name": "python3"
  },
  "language_info": {
   "codemirror_mode": {
    "name": "ipython",
    "version": 3
   },
   "file_extension": ".py",
   "mimetype": "text/x-python",
   "name": "python",
   "nbconvert_exporter": "python",
   "pygments_lexer": "ipython3",
   "version": "3.6.3"
  }
 },
 "nbformat": 4,
 "nbformat_minor": 2
}
