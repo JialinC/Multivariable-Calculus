{
 "cells": [
  {
   "cell_type": "markdown",
   "metadata": {},
   "source": [
    "Example.1"
   ]
  },
  {
   "cell_type": "code",
   "execution_count": 1,
   "metadata": {},
   "outputs": [
    {
     "name": "stdout",
     "output_type": "stream",
     "text": [
      "32/15\n"
     ]
    }
   ],
   "source": [
    "import sympy as sp\n",
    "x,y = sp.symbols('x y',real = True)\n",
    "f = x + 2*y\n",
    "int_y = sp.integrate(f,(y,2*x**2,1 + x**2))\n",
    "ans = sp.integrate(int_y,(x,-1,1))\n",
    "print(ans)"
   ]
  },
  {
   "cell_type": "markdown",
   "metadata": {},
   "source": [
    "Example.2"
   ]
  },
  {
   "cell_type": "code",
   "execution_count": 2,
   "metadata": {},
   "outputs": [
    {
     "name": "stdout",
     "output_type": "stream",
     "text": [
      "216/35\n"
     ]
    }
   ],
   "source": [
    "x,y = sp.symbols('x y',real = True)\n",
    "z = x**2 + y**2\n",
    "#solution 1\n",
    "int_y = sp.integrate(z,(y,x**2,2*x))\n",
    "ans1 = sp.integrate(int_y,(x,0,2))\n",
    "print(ans1)\n"
   ]
  },
  {
   "cell_type": "code",
   "execution_count": 3,
   "metadata": {},
   "outputs": [
    {
     "name": "stdout",
     "output_type": "stream",
     "text": [
      "6.17142857142857\n"
     ]
    }
   ],
   "source": [
    "#solution 2\n",
    "int_x = sp.integrate(z,(x,0.5*y,sp.sqrt(y)))\n",
    "ans2 = sp.integrate(int_x,(y,0,4))\n",
    "print(ans2)"
   ]
  },
  {
   "cell_type": "markdown",
   "metadata": {},
   "source": [
    "Example.3"
   ]
  },
  {
   "cell_type": "code",
   "execution_count": 4,
   "metadata": {},
   "outputs": [
    {
     "name": "stdout",
     "output_type": "stream",
     "text": [
      "36.0000000000000\n"
     ]
    }
   ],
   "source": [
    "x,y = sp.symbols('x y',real = True)\n",
    "f = x*y\n",
    "int_x = sp.integrate(f,(x,0.5*y**2 - 3,y + 1))\n",
    "ans = sp.integrate(int_x,(y,-2,4))\n",
    "print(ans)"
   ]
  },
  {
   "cell_type": "markdown",
   "metadata": {},
   "source": [
    "Example.4"
   ]
  },
  {
   "cell_type": "code",
   "execution_count": 5,
   "metadata": {},
   "outputs": [
    {
     "name": "stdout",
     "output_type": "stream",
     "text": [
      "1/3\n"
     ]
    }
   ],
   "source": [
    "x,y = sp.symbols('x y',real = True)\n",
    "z = 2 - x - 2*y\n",
    "int_y = sp.integrate(z,(y,x/2,1 - x/2))\n",
    "ans = sp.integrate(int_y,(x,0,1))\n",
    "print(ans)"
   ]
  },
  {
   "cell_type": "markdown",
   "metadata": {},
   "source": [
    "Example.5"
   ]
  },
  {
   "cell_type": "code",
   "execution_count": 6,
   "metadata": {},
   "outputs": [
    {
     "name": "stdout",
     "output_type": "stream",
     "text": [
      "-cos(1)/2 + 1/2\n"
     ]
    }
   ],
   "source": [
    "x,y = sp.symbols('x y',real = True)\n",
    "f = sp.sin(y**2)\n",
    "int_x = sp.integrate(f,(x,0,y))\n",
    "ans = sp.simplify(sp.integrate(int_x,(y,0,1)))\n",
    "print(ans)"
   ]
  },
  {
   "cell_type": "code",
   "execution_count": 7,
   "metadata": {},
   "outputs": [
    {
     "name": "stdout",
     "output_type": "stream",
     "text": [
      "Integral(1/log(x), x)\n"
     ]
    }
   ],
   "source": [
    "x = sp.symbols('x',real = True)\n",
    "f = 1/sp.log(x)\n",
    "ans = sp.integrate(f,x)\n",
    "print(ans)"
   ]
  },
  {
   "cell_type": "code",
   "execution_count": null,
   "metadata": {
    "collapsed": true
   },
   "outputs": [],
   "source": []
  }
 ],
 "metadata": {
  "kernelspec": {
   "display_name": "Python 3",
   "language": "python",
   "name": "python3"
  },
  "language_info": {
   "codemirror_mode": {
    "name": "ipython",
    "version": 3
   },
   "file_extension": ".py",
   "mimetype": "text/x-python",
   "name": "python",
   "nbconvert_exporter": "python",
   "pygments_lexer": "ipython3",
   "version": "3.6.3"
  }
 },
 "nbformat": 4,
 "nbformat_minor": 2
}
