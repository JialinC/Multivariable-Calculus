{
 "cells": [
  {
   "cell_type": "markdown",
   "metadata": {},
   "source": [
    "Q1.a"
   ]
  },
  {
   "cell_type": "code",
   "execution_count": 1,
   "metadata": {},
   "outputs": [
    {
     "name": "stdout",
     "output_type": "stream",
     "text": [
      " \n",
      "x =\n",
      " \n",
      "a*cos(theta)\n",
      " \n",
      " \n",
      "y =\n",
      " \n",
      "a*sin(theta)\n",
      " \n",
      " \n",
      "dx =\n",
      " \n",
      "-a*sin(theta)\n",
      " \n",
      " \n",
      "dy =\n",
      " \n",
      "a*cos(theta)\n",
      " \n",
      " \n",
      "result =\n",
      " \n",
      "2*pi*a^2\n",
      " \n"
     ]
    }
   ],
   "source": [
    "syms theta a r x y\n",
    "x = a*cos(theta)\n",
    "y = a*sin(theta)\n",
    "dx = diff(x)\n",
    "dy = diff(y)\n",
    "result = int(x*dy - y*dx,theta,0,2*pi)"
   ]
  },
  {
   "cell_type": "markdown",
   "metadata": {},
   "source": [
    "Q1.b"
   ]
  },
  {
   "cell_type": "code",
   "execution_count": 2,
   "metadata": {},
   "outputs": [
    {
     "name": "stdout",
     "output_type": "stream",
     "text": [
      " \n",
      "F =\n",
      " \n",
      "[ -y, x, 0]\n",
      " \n",
      " \n",
      "curlF =\n",
      " \n",
      " 0\n",
      " 0\n",
      " 2\n",
      " \n",
      " \n",
      "curlFn =\n",
      " \n",
      "2\n",
      " \n",
      " \n",
      "result =\n",
      " \n",
      "2*pi*a^2\n",
      " \n"
     ]
    }
   ],
   "source": [
    "syms x y z\n",
    "F=[-y,x,0]\n",
    "curlF = curl(F,[x,y,z])\n",
    "curlFn = dot(curlF,[0,0,1])\n",
    "result = int(int(r*curlFn,r,0,a),theta,0,2*pi)"
   ]
  },
  {
   "cell_type": "markdown",
   "metadata": {},
   "source": [
    "Q2.a"
   ]
  },
  {
   "cell_type": "code",
   "execution_count": 3,
   "metadata": {},
   "outputs": [
    {
     "name": "stdout",
     "output_type": "stream",
     "text": [
      " \n",
      "x =\n",
      " \n",
      "a*cos(theta)\n",
      " \n",
      " \n",
      "y =\n",
      " \n",
      "a*sin(theta)\n",
      " \n",
      " \n",
      "dx =\n",
      " \n",
      "-a*sin(theta)\n",
      " \n",
      " \n",
      "dy =\n",
      " \n",
      "a*cos(theta)\n",
      " \n",
      " \n",
      "result =\n",
      " \n",
      "2*pi*a^2\n",
      " \n"
     ]
    }
   ],
   "source": [
    "syms theta a r x y\n",
    "x = a*cos(theta)\n",
    "y = a*sin(theta)\n",
    "dx = diff(x)\n",
    "dy = diff(y)\n",
    "result = int(x*dy - y*dx,theta,0,2*pi)"
   ]
  },
  {
   "cell_type": "markdown",
   "metadata": {},
   "source": [
    "Q2.b"
   ]
  },
  {
   "cell_type": "code",
   "execution_count": 4,
   "metadata": {},
   "outputs": [
    {
     "name": "stdout",
     "output_type": "stream",
     "text": [
      " \n",
      "F =\n",
      " \n",
      "[ x, y]\n",
      " \n",
      " \n",
      "div =\n",
      " \n",
      "2\n",
      " \n",
      " \n",
      "result =\n",
      " \n",
      "2*pi*a^2\n",
      " \n"
     ]
    }
   ],
   "source": [
    "syms x y r a\n",
    "F = [x,y]\n",
    "div = divergence(F)\n",
    "result = div*int(int(r,r,0,a),theta,0,2*pi)"
   ]
  },
  {
   "cell_type": "markdown",
   "metadata": {},
   "source": [
    "Q3.a"
   ]
  },
  {
   "cell_type": "code",
   "execution_count": 5,
   "metadata": {},
   "outputs": [
    {
     "name": "stdout",
     "output_type": "stream",
     "text": [
      " \n",
      "x =\n",
      " \n",
      "a*cos(theta)\n",
      " \n",
      " \n",
      "y =\n",
      " \n",
      "a*sin(theta)\n",
      " \n",
      " \n",
      "dx =\n",
      " \n",
      "-a*sin(theta)\n",
      " \n",
      " \n",
      "dy =\n",
      " \n",
      "a*cos(theta)\n",
      " \n",
      " \n",
      "result =\n",
      " \n",
      "2*pi\n",
      " \n"
     ]
    }
   ],
   "source": [
    "syms theta a x y\n",
    "x = a*cos(theta)\n",
    "y = a*sin(theta)\n",
    "dx = diff(x)\n",
    "dy = diff(y)\n",
    "result = int((-y*dx + x*dy)/(x^2 + y^2),theta,0,2*pi)"
   ]
  },
  {
   "cell_type": "markdown",
   "metadata": {},
   "source": [
    "Q3.b"
   ]
  },
  {
   "cell_type": "code",
   "execution_count": 6,
   "metadata": {},
   "outputs": [
    {
     "name": "stdout",
     "output_type": "stream",
     "text": [
      " \n",
      "F =\n",
      " \n",
      "[ -y/(x^2 + y^2), x/(x^2 + y^2), 0]\n",
      " \n",
      " \n",
      "curlF =\n",
      " \n",
      "                                                             0\n",
      "                                                             0\n",
      " 2/(x^2 + y^2) - (2*x^2)/(x^2 + y^2)^2 - (2*y^2)/(x^2 + y^2)^2\n",
      " \n",
      " \n",
      "curlFn =\n",
      " \n",
      "0\n",
      " \n"
     ]
    }
   ],
   "source": [
    "syms x y z\n",
    "F = [-y/(x^2+y^2),x/(x^2+y^2),0]\n",
    "curlF = curl(F,[x,y,z])\n",
    "curlFn = simplify(dot(curlF,[0,0,1]))"
   ]
  },
  {
   "cell_type": "markdown",
   "metadata": {},
   "source": [
    "Q4.a"
   ]
  },
  {
   "cell_type": "code",
   "execution_count": 7,
   "metadata": {},
   "outputs": [
    {
     "name": "stdout",
     "output_type": "stream",
     "text": [
      " \n",
      "x =\n",
      " \n",
      "a*cos(theta)\n",
      " \n",
      " \n",
      "y =\n",
      " \n",
      "a*sin(theta)\n",
      " \n",
      " \n",
      "dx =\n",
      " \n",
      "-a*sin(theta)\n",
      " \n",
      " \n",
      "dy =\n",
      " \n",
      "a*cos(theta)\n",
      " \n",
      " \n",
      "result =\n",
      " \n",
      "2*pi\n",
      " \n"
     ]
    }
   ],
   "source": [
    "syms theta a x y\n",
    "x = a*cos(theta)\n",
    "y = a*sin(theta)\n",
    "dx = diff(x)\n",
    "dy = diff(y)\n",
    "result = int((x*dy-y*dx)/(x^2+y^2),theta,0,2*pi)"
   ]
  },
  {
   "cell_type": "markdown",
   "metadata": {},
   "source": [
    "Q4.b"
   ]
  },
  {
   "cell_type": "code",
   "execution_count": 8,
   "metadata": {},
   "outputs": [
    {
     "name": "stdout",
     "output_type": "stream",
     "text": [
      " \n",
      "F =\n",
      " \n",
      "[ x/(x^2 + y^2), y/(x^2 + y^2)]\n",
      " \n",
      " \n",
      "div =\n",
      " \n",
      "0\n",
      " \n"
     ]
    }
   ],
   "source": [
    "syms x y\n",
    "F=[x/(x^2+y^2),y/(x^2+y^2)]\n",
    "div=simplify(divergence(F))"
   ]
  },
  {
   "cell_type": "markdown",
   "metadata": {},
   "source": [
    "Q5.a"
   ]
  },
  {
   "cell_type": "code",
   "execution_count": 9,
   "metadata": {},
   "outputs": [
    {
     "name": "stdout",
     "output_type": "stream",
     "text": [
      " \n",
      "resulta =\n",
      " \n",
      "- x1^2/2 + x2^2/2 - y1^2/2 + y2^2/2\n",
      " \n"
     ]
    }
   ],
   "source": [
    "syms x y x1 y1 x2 y2 t\n",
    "resulta = int(x,x1,x2)+int(y,y1,y2)"
   ]
  },
  {
   "cell_type": "markdown",
   "metadata": {},
   "source": [
    "Q5.b"
   ]
  },
  {
   "cell_type": "code",
   "execution_count": 10,
   "metadata": {},
   "outputs": [
    {
     "name": "stdout",
     "output_type": "stream",
     "text": [
      " \n",
      "resultb =\n",
      " \n",
      "- x1^2/2 + x2^2/2 - y1^2/2 + y2^2/2\n",
      " \n"
     ]
    }
   ],
   "source": [
    "resultb = int(((x1+t*(x2-x1))*(x2-x1)+(y1+t*(y2-y1))*(y2-y1)),t,0,1)"
   ]
  },
  {
   "cell_type": "markdown",
   "metadata": {},
   "source": [
    "Q5.c"
   ]
  },
  {
   "cell_type": "code",
   "execution_count": 11,
   "metadata": {},
   "outputs": [
    {
     "name": "stdout",
     "output_type": "stream",
     "text": [
      " \n",
      "fx =\n",
      " \n",
      "x\n",
      " \n",
      " \n",
      "fy =\n",
      " \n",
      "y\n",
      " \n",
      " \n",
      "f =\n",
      " \n",
      "x^2/2 + y^2/2\n",
      " \n"
     ]
    }
   ],
   "source": [
    "fx=x\n",
    "fy=y\n",
    "f=int(fx,x)+int(fy,y)"
   ]
  },
  {
   "cell_type": "markdown",
   "metadata": {},
   "source": [
    "Q5.d"
   ]
  },
  {
   "cell_type": "code",
   "execution_count": 12,
   "metadata": {},
   "outputs": [
    {
     "name": "stdout",
     "output_type": "stream",
     "text": [
      " \n",
      "resultd =\n",
      " \n",
      "- x1^2/2 + x2^2/2 - y1^2/2 + y2^2/2\n",
      " \n"
     ]
    }
   ],
   "source": [
    "resultd=subs(f,[x,y],[x2,y2])-subs(f,[x,y],[x1,y1])"
   ]
  },
  {
   "cell_type": "markdown",
   "metadata": {},
   "source": [
    "Q6.a"
   ]
  },
  {
   "cell_type": "code",
   "execution_count": 13,
   "metadata": {},
   "outputs": [
    {
     "name": "stdout",
     "output_type": "stream",
     "text": [
      " \n",
      "r =\n",
      " \n",
      "(x^2 + y^2 + z^2)^(1/2)\n",
      " \n",
      " \n",
      "F =\n",
      " \n",
      "[ x/(x^2 + y^2 + z^2)^(3/2), y/(x^2 + y^2 + z^2)^(3/2), z/(x^2 + y^2 + z^2)^(3/2)]\n",
      " \n",
      " \n",
      "div =\n",
      " \n",
      "0\n",
      " \n"
     ]
    }
   ],
   "source": [
    "syms x y z r\n",
    "r=sqrt(x^2+y^2+z^2)\n",
    "F=[x/r^3,y/r^3,z/r^3]\n",
    "div=simplify(divergence(F))"
   ]
  },
  {
   "cell_type": "markdown",
   "metadata": {},
   "source": [
    "alternatively:"
   ]
  },
  {
   "cell_type": "code",
   "execution_count": 14,
   "metadata": {},
   "outputs": [
    {
     "name": "stdout",
     "output_type": "stream",
     "text": [
      " \n",
      "Px =\n",
      " \n",
      "(- 2*x^2 + y^2 + z^2)/(x^2 + y^2 + z^2)^(5/2)\n",
      " \n",
      " \n",
      "Qy =\n",
      " \n",
      "(x^2 - 2*y^2 + z^2)/(x^2 + y^2 + z^2)^(5/2)\n",
      " \n",
      " \n",
      "Rz =\n",
      " \n",
      "(x^2 + y^2 - 2*z^2)/(x^2 + y^2 + z^2)^(5/2)\n",
      " \n",
      " \n",
      "result =\n",
      " \n",
      "0\n",
      " \n"
     ]
    }
   ],
   "source": [
    "Px=simplify(diff(x/r^3,x))\n",
    "Qy=simplify(diff(y/r^3,y))\n",
    "Rz=simplify(diff(z/r^3,z))\n",
    "result=simplify(Px+Qy+Rz)"
   ]
  },
  {
   "cell_type": "markdown",
   "metadata": {},
   "source": [
    "Q6.b"
   ]
  },
  {
   "cell_type": "code",
   "execution_count": 15,
   "metadata": {},
   "outputs": [
    {
     "name": "stdout",
     "output_type": "stream",
     "text": [
      " \n",
      "a =\n",
      " \n",
      "(x^2 + y^2 + z^2)^(1/2)\n",
      " \n",
      " \n",
      "n1 =\n",
      " \n",
      "[ x/(x^2 + y^2 + z^2)^(1/2), y/(x^2 + y^2 + z^2)^(1/2), z/(x^2 + y^2 + z^2)^(1/2)]\n",
      " \n",
      " \n",
      "F =\n",
      " \n",
      "[ x/(x^2 + y^2 + z^2)^(3/2), y/(x^2 + y^2 + z^2)^(3/2), z/(x^2 + y^2 + z^2)^(3/2)]\n",
      " \n",
      " \n",
      "Fn1 =\n",
      " \n",
      "1/(x^2 + y^2 + z^2)\n",
      " \n",
      " \n",
      "result =\n",
      " \n",
      "4*pi\n",
      " \n"
     ]
    }
   ],
   "source": [
    "syms x y z real\n",
    "a=sqrt(x^2+y^2+z^2)\n",
    "n1=[x,y,z]/a\n",
    "F=[x,y,z]/a^3\n",
    "Fn1=simplify(dot(F,n1))\n",
    "result=4*pi*a^2*Fn1"
   ]
  },
  {
   "cell_type": "markdown",
   "metadata": {},
   "source": [
    "Q7.a"
   ]
  },
  {
   "cell_type": "code",
   "execution_count": 16,
   "metadata": {},
   "outputs": [
    {
     "name": "stdout",
     "output_type": "stream",
     "text": [
      " \n",
      "r =\n",
      " \n",
      "(x^2 + y^2)^(1/2)\n",
      " \n",
      " \n",
      "F =\n",
      " \n",
      "[ x/(x^2 + y^2), y/(x^2 + y^2)]\n",
      " \n",
      " \n",
      "div =\n",
      " \n",
      "0\n",
      " \n"
     ]
    }
   ],
   "source": [
    "syms x y r\n",
    "r=sqrt(x^2+y^2)\n",
    "F=[x/r^2,y/r^2]\n",
    "div=simplify(divergence(F))"
   ]
  },
  {
   "cell_type": "markdown",
   "metadata": {},
   "source": [
    "alternatively:"
   ]
  },
  {
   "cell_type": "code",
   "execution_count": 17,
   "metadata": {},
   "outputs": [
    {
     "name": "stdout",
     "output_type": "stream",
     "text": [
      " \n",
      "Px =\n",
      " \n",
      "-(x^2 - y^2)/(x^2 + y^2)^2\n",
      " \n",
      " \n",
      "Qy =\n",
      " \n",
      "(x^2 - y^2)/(x^2 + y^2)^2\n",
      " \n",
      " \n",
      "result =\n",
      " \n",
      "0\n",
      " \n"
     ]
    }
   ],
   "source": [
    "Px=simplify(diff(x/r^2,x))\n",
    "Qy=simplify(diff(y/r^2,y))\n",
    "result=simplify(Px+Qy)"
   ]
  },
  {
   "cell_type": "markdown",
   "metadata": {},
   "source": [
    "Q7.b"
   ]
  },
  {
   "cell_type": "code",
   "execution_count": 19,
   "metadata": {},
   "outputs": [
    {
     "name": "stdout",
     "output_type": "stream",
     "text": [
      " \n",
      "a =\n",
      " \n",
      "(x^2 + y^2)^(1/2)\n",
      " \n",
      " \n",
      "n1 =\n",
      " \n",
      "[ x/(x^2 + y^2)^(1/2), y/(x^2 + y^2)^(1/2)]\n",
      " \n",
      " \n",
      "F =\n",
      " \n",
      "[ x/(x^2 + y^2), y/(x^2 + y^2)]\n",
      " \n",
      " \n",
      "Fn1 =\n",
      " \n",
      "1/(x^2 + y^2)^(1/2)\n",
      " \n",
      " \n",
      "result =\n",
      " \n",
      "2*pi\n",
      " \n"
     ]
    }
   ],
   "source": [
    "syms x y real\n",
    "a=sqrt(x^2+y^2)\n",
    "n1=[x,y]/a\n",
    "F=[x,y]/a^2\n",
    "Fn1=simplify(dot(F,n1))\n",
    "result=2*pi*a*Fn1"
   ]
  },
  {
   "cell_type": "code",
   "execution_count": null,
   "metadata": {
    "collapsed": true
   },
   "outputs": [],
   "source": []
  }
 ],
 "metadata": {
  "kernelspec": {
   "display_name": "Matlab",
   "language": "matlab",
   "name": "matlab"
  },
  "language_info": {
   "codemirror_mode": "octave",
   "file_extension": ".m",
   "help_links": [
    {
     "text": "MetaKernel Magics",
     "url": "https://github.com/calysto/metakernel/blob/master/metakernel/magics/README.md"
    }
   ],
   "mimetype": "text/x-octave",
   "name": "matlab",
   "version": "0.15.1"
  }
 },
 "nbformat": 4,
 "nbformat_minor": 2
}
