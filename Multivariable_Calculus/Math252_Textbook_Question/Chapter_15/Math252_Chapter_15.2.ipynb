{
 "cells": [
  {
   "cell_type": "markdown",
   "metadata": {},
   "source": [
    "Example.1"
   ]
  },
  {
   "cell_type": "code",
   "execution_count": 1,
   "metadata": {},
   "outputs": [
    {
     "name": "stdout",
     "output_type": "stream",
     "text": [
      "27/2\n"
     ]
    }
   ],
   "source": [
    "#a\n",
    "import sympy as sp\n",
    "x,y = sp.symbols('x y',real = True)\n",
    "f = x**2*y\n",
    "int_y = sp.integrate(f,(y,1,2))\n",
    "ans = sp.integrate(int_y,(x,0,3))\n",
    "print(ans)"
   ]
  },
  {
   "cell_type": "code",
   "execution_count": 2,
   "metadata": {},
   "outputs": [
    {
     "name": "stdout",
     "output_type": "stream",
     "text": [
      "27/2\n"
     ]
    }
   ],
   "source": [
    "#b\n",
    "x,y = sp.symbols('x y',real = True)\n",
    "f = x**2*y\n",
    "int_x = sp.integrate(f,(x,0,3))\n",
    "ans = sp.integrate(int_x,(y,1,2))\n",
    "print(ans)"
   ]
  },
  {
   "cell_type": "markdown",
   "metadata": {},
   "source": [
    "Example.2"
   ]
  },
  {
   "cell_type": "code",
   "execution_count": 3,
   "metadata": {},
   "outputs": [
    {
     "name": "stdout",
     "output_type": "stream",
     "text": [
      "-12\n"
     ]
    }
   ],
   "source": [
    "x,y = sp.symbols('x y',real = True)\n",
    "f = x - 3*y**2\n",
    "int_y = sp.integrate(f,(y,1,2))\n",
    "ans = sp.integrate(int_y,(x,0,2))\n",
    "print(ans)"
   ]
  },
  {
   "cell_type": "markdown",
   "metadata": {},
   "source": [
    "Example.3"
   ]
  },
  {
   "cell_type": "code",
   "execution_count": 4,
   "metadata": {},
   "outputs": [
    {
     "name": "stdout",
     "output_type": "stream",
     "text": [
      "0\n"
     ]
    }
   ],
   "source": [
    "x,y = sp.symbols('x y',real = True)\n",
    "f = y*sp.sin(x*y)\n",
    "#solution 1\n",
    "int_x = sp.integrate(f,(x,1,2))\n",
    "ans = sp.integrate(int_x,(y,0,sp.pi))\n",
    "print(ans)"
   ]
  },
  {
   "cell_type": "code",
   "execution_count": 7,
   "metadata": {},
   "outputs": [
    {
     "name": "stdout",
     "output_type": "stream",
     "text": [
      "0\n"
     ]
    }
   ],
   "source": [
    "import sympy as sp\n",
    "x,y = sp.symbols('x y',real = True)\n",
    "f = y*sp.sin(x*y)\n",
    "#solution 2\n",
    "int_y = sp.integrate(f,(y,0,sp.pi))\n",
    "ans = sp.simplify(sp.integrate(int_y,(x,1,2)))\n",
    "print(ans)"
   ]
  },
  {
   "cell_type": "markdown",
   "metadata": {},
   "source": [
    "Example.4"
   ]
  },
  {
   "cell_type": "code",
   "execution_count": 8,
   "metadata": {},
   "outputs": [
    {
     "name": "stdout",
     "output_type": "stream",
     "text": [
      "48\n"
     ]
    }
   ],
   "source": [
    "x,y = sp.symbols('x y',real = True)\n",
    "f = 16 - x**2 -2*y**2\n",
    "int_x = sp.integrate(f,(x,0,2))\n",
    "ans = sp.integrate(int_x,(y,0,2))\n",
    "print(ans)"
   ]
  },
  {
   "cell_type": "markdown",
   "metadata": {},
   "source": [
    "Example.5"
   ]
  },
  {
   "cell_type": "code",
   "execution_count": 9,
   "metadata": {},
   "outputs": [
    {
     "name": "stdout",
     "output_type": "stream",
     "text": [
      "1\n",
      "1\n"
     ]
    }
   ],
   "source": [
    "x,y = sp.symbols('x y',real = True)\n",
    "f = sp.sin(x)*sp.cos(y)\n",
    "int_x = sp.integrate(f,(x,0,sp.pi/2))\n",
    "ans = sp.integrate(int_x,(y,0,sp.pi/2))\n",
    "print(ans)\n",
    "#or\n",
    "f1 = sp.sin(x)\n",
    "f2 = sp.cos(y)\n",
    "ans = sp.integrate(f1,(x,0,sp.pi/2))*sp.integrate(f2,(y,0,sp.pi/2))\n",
    "print(ans)"
   ]
  },
  {
   "cell_type": "code",
   "execution_count": null,
   "metadata": {
    "collapsed": true
   },
   "outputs": [],
   "source": []
  }
 ],
 "metadata": {
  "kernelspec": {
   "display_name": "Python 3",
   "language": "python",
   "name": "python3"
  },
  "language_info": {
   "codemirror_mode": {
    "name": "ipython",
    "version": 3
   },
   "file_extension": ".py",
   "mimetype": "text/x-python",
   "name": "python",
   "nbconvert_exporter": "python",
   "pygments_lexer": "ipython3",
   "version": "3.6.3"
  }
 },
 "nbformat": 4,
 "nbformat_minor": 2
}
