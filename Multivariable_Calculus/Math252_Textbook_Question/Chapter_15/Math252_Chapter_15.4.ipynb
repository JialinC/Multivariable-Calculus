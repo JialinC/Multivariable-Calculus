{
 "cells": [
  {
   "cell_type": "markdown",
   "metadata": {},
   "source": [
    "Example.1"
   ]
  },
  {
   "cell_type": "code",
   "execution_count": 1,
   "metadata": {},
   "outputs": [
    {
     "name": "stdout",
     "output_type": "stream",
     "text": [
      "15*pi/2\n"
     ]
    }
   ],
   "source": [
    "import sympy as sp\n",
    "theta,r,x,y = sp.symbols(\"theta r x y\")\n",
    "x=r*sp.cos(theta)\n",
    "y=r*sp.sin(theta)\n",
    "f=3*x+4*y**2\n",
    "result=sp.integrate(sp.integrate(f*r,(r,1,2)),(theta,0,sp.pi))\n",
    "print(result)"
   ]
  },
  {
   "cell_type": "markdown",
   "metadata": {},
   "source": [
    "Example.2"
   ]
  },
  {
   "cell_type": "code",
   "execution_count": 2,
   "metadata": {},
   "outputs": [
    {
     "name": "stdout",
     "output_type": "stream",
     "text": [
      "pi/2\n"
     ]
    }
   ],
   "source": [
    "x=r*sp.cos(theta)\n",
    "y=r*sp.sin(theta)\n",
    "f=1-x**2-y**2\n",
    "result=sp.integrate(sp.integrate(f*r,(r,0,1)),(theta,0,2*sp.pi))\n",
    "print(result)"
   ]
  },
  {
   "cell_type": "markdown",
   "metadata": {},
   "source": [
    "Example.3"
   ]
  },
  {
   "cell_type": "code",
   "execution_count": 3,
   "metadata": {},
   "outputs": [
    {
     "name": "stdout",
     "output_type": "stream",
     "text": [
      "pi/8\n"
     ]
    }
   ],
   "source": [
    "f=1\n",
    "result=sp.integrate(sp.integrate(f*r,(r,0,sp.cos(2*theta))),(theta,-sp.pi/4,sp.pi/4))\n",
    "print(result)"
   ]
  },
  {
   "cell_type": "markdown",
   "metadata": {},
   "source": [
    "Example.4"
   ]
  },
  {
   "cell_type": "code",
   "execution_count": 4,
   "metadata": {},
   "outputs": [
    {
     "name": "stdout",
     "output_type": "stream",
     "text": [
      "3*pi/2\n"
     ]
    }
   ],
   "source": [
    "x=r*sp.cos(theta)\n",
    "y=r*sp.sin(theta)\n",
    "f=x**2+y**2\n",
    "result=sp.integrate(sp.integrate(f*r,(r,0,2*sp.cos(theta))),(theta,-sp.pi/2,sp.pi/2))\n",
    "print(result)"
   ]
  },
  {
   "cell_type": "code",
   "execution_count": null,
   "metadata": {
    "collapsed": true
   },
   "outputs": [],
   "source": []
  }
 ],
 "metadata": {
  "kernelspec": {
   "display_name": "Python 3",
   "language": "python",
   "name": "python3"
  },
  "language_info": {
   "codemirror_mode": {
    "name": "ipython",
    "version": 3
   },
   "file_extension": ".py",
   "mimetype": "text/x-python",
   "name": "python",
   "nbconvert_exporter": "python",
   "pygments_lexer": "ipython3",
   "version": "3.6.3"
  }
 },
 "nbformat": 4,
 "nbformat_minor": 2
}
