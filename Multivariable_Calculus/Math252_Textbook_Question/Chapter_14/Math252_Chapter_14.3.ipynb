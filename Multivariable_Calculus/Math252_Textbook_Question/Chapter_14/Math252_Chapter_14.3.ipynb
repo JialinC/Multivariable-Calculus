{
 "cells": [
  {
   "cell_type": "markdown",
   "metadata": {},
   "source": [
    "Example.1"
   ]
  },
  {
   "cell_type": "code",
   "execution_count": 1,
   "metadata": {},
   "outputs": [
    {
     "name": "stdout",
     "output_type": "stream",
     "text": [
      "16\n",
      "8\n"
     ]
    }
   ],
   "source": [
    "import sympy as sp\n",
    "x,y = sp.symbols(\"x y\")\n",
    "f = x**3 + x**2*y**3 - 2*y**2\n",
    "fx = sp.diff(f,x)\n",
    "fy = sp.diff(f,y)\n",
    "fx21 = fx.subs([[x,2],[y,1]])\n",
    "fy21 = fy.subs([[x,2],[y,1]])\n",
    "print(fx21)\n",
    "print(fy21)"
   ]
  },
  {
   "cell_type": "markdown",
   "metadata": {},
   "source": [
    "Example.2"
   ]
  },
  {
   "cell_type": "code",
   "execution_count": 2,
   "metadata": {},
   "outputs": [
    {
     "name": "stdout",
     "output_type": "stream",
     "text": [
      "-2\n",
      "-4\n"
     ]
    }
   ],
   "source": [
    "x,y = sp.symbols('x,y')\n",
    "f = 4 - x**2 - 2*y**2\n",
    "fx = sp.diff(f,x)\n",
    "fy = sp.diff(f,y)\n",
    "fx11 = fx.subs([[x,1],[y,1]])\n",
    "fy11 = fy.subs([[x,1],[y,1]])\n",
    "print(fx11)\n",
    "print(fy11)"
   ]
  },
  {
   "cell_type": "markdown",
   "metadata": {},
   "source": [
    "Example.3"
   ]
  },
  {
   "cell_type": "code",
   "execution_count": 3,
   "metadata": {},
   "outputs": [
    {
     "name": "stdout",
     "output_type": "stream",
     "text": [
      "cos(x/(y + 1))/(y + 1)\n",
      "-x*cos(x/(y + 1))/(y + 1)**2\n"
     ]
    }
   ],
   "source": [
    "x,y = sp.symbols('x,y')\n",
    "f = sp.sin(x / (1 + y))\n",
    "fx = sp.diff(f,x)\n",
    "fy = sp.diff(f,y)\n",
    "print(fx)\n",
    "print(fy)"
   ]
  },
  {
   "cell_type": "markdown",
   "metadata": {},
   "source": [
    "Example.4"
   ]
  },
  {
   "cell_type": "code",
   "execution_count": 4,
   "metadata": {},
   "outputs": [
    {
     "name": "stdout",
     "output_type": "stream",
     "text": [
      "-(x**2 + 2*y*z)/(2*x*y + z**2)\n",
      "-(2*x*z + y**2)/(2*x*y + z**2)\n"
     ]
    }
   ],
   "source": [
    "x,y,z = sp.symbols('x,y,z')\n",
    "f = x**3 + y**3 + z**3 + 6*x*y*z\n",
    "fx = sp.diff(f,x)\n",
    "fy = sp.diff(f,y)\n",
    "fz = sp.diff(f,z)\n",
    "dzdx = sp.simplify(-fx/fz)\n",
    "dzdy = sp.simplify(-fy/fz)\n",
    "print(dzdx)\n",
    "print(dzdy)"
   ]
  },
  {
   "cell_type": "markdown",
   "metadata": {},
   "source": [
    "Example.5"
   ]
  },
  {
   "cell_type": "code",
   "execution_count": 5,
   "metadata": {},
   "outputs": [
    {
     "name": "stdout",
     "output_type": "stream",
     "text": [
      "y*exp(x*y)*log(z)\n",
      "x*exp(x*y)*log(z)\n",
      "exp(x*y)/z\n"
     ]
    }
   ],
   "source": [
    "x,y,z = sp.symbols('x,y,z')\n",
    "f = sp.exp(x*y)*sp.ln(z)\n",
    "fx = sp.diff(f,x)\n",
    "fy = sp.diff(f,y)\n",
    "fz = sp.diff(f,z)\n",
    "print(fx)\n",
    "print(fy)\n",
    "print(fz)"
   ]
  },
  {
   "cell_type": "markdown",
   "metadata": {},
   "source": [
    "Example.6"
   ]
  },
  {
   "cell_type": "code",
   "execution_count": 6,
   "metadata": {},
   "outputs": [
    {
     "name": "stdout",
     "output_type": "stream",
     "text": [
      "6*x + 2*y**3\n",
      "6*x**2*y - 4\n",
      "6*x*y**2\n"
     ]
    }
   ],
   "source": [
    "x,y,z = sp.symbols('x,y,z')\n",
    "f = x**3 + x**2*y**3 - 2*y**2\n",
    "fxx = sp.simplify(sp.diff(f,x,2))\n",
    "fyy = sp.simplify(sp.diff(f,y,2))\n",
    "fxy = sp.diff(f,x,y)\n",
    "print(fxx)\n",
    "print(fyy)\n",
    "print(fxy)"
   ]
  },
  {
   "cell_type": "markdown",
   "metadata": {},
   "source": [
    "Example.7"
   ]
  },
  {
   "cell_type": "code",
   "execution_count": 7,
   "metadata": {},
   "outputs": [
    {
     "name": "stdout",
     "output_type": "stream",
     "text": [
      "9*(y*z*sin(3*x + y*z) - cos(3*x + y*z))\n"
     ]
    }
   ],
   "source": [
    "x,y,z = sp.symbols('x,y,z')\n",
    "f = sp.sin(3*x + y*z)\n",
    "fxxyz = sp.diff(f,x,x,y,z)\n",
    "print(fxxyz)"
   ]
  },
  {
   "cell_type": "markdown",
   "metadata": {},
   "source": [
    "Example.8"
   ]
  },
  {
   "cell_type": "code",
   "execution_count": 8,
   "metadata": {},
   "outputs": [
    {
     "name": "stdout",
     "output_type": "stream",
     "text": [
      "0\n"
     ]
    }
   ],
   "source": [
    "x,y = sp.symbols('x,y')\n",
    "f = sp.exp(x)*sp.sin(y)\n",
    "fxx = sp.simplify(sp.diff(f,x,2))\n",
    "fyy = sp.simplify(sp.diff(f,y,2))\n",
    "ans = fxx + fyy\n",
    "print(ans)"
   ]
  },
  {
   "cell_type": "markdown",
   "metadata": {},
   "source": [
    "Example.9"
   ]
  },
  {
   "cell_type": "code",
   "execution_count": 9,
   "metadata": {},
   "outputs": [
    {
     "name": "stdout",
     "output_type": "stream",
     "text": [
      "a**2\n"
     ]
    }
   ],
   "source": [
    "x,t,a = sp.symbols('x,t,a')\n",
    "f = sp.sin(x - a*t)\n",
    "fxx = sp.simplify(sp.diff(f,x,2))\n",
    "ftt = sp.simplify(sp.diff(f,t,2))\n",
    "ans = ftt/fxx\n",
    "print(ans)"
   ]
  },
  {
   "cell_type": "code",
   "execution_count": null,
   "metadata": {
    "collapsed": true
   },
   "outputs": [],
   "source": []
  }
 ],
 "metadata": {
  "kernelspec": {
   "display_name": "Python 3",
   "language": "python",
   "name": "python3"
  },
  "language_info": {
   "codemirror_mode": {
    "name": "ipython",
    "version": 3
   },
   "file_extension": ".py",
   "mimetype": "text/x-python",
   "name": "python",
   "nbconvert_exporter": "python",
   "pygments_lexer": "ipython3",
   "version": "3.6.3"
  }
 },
 "nbformat": 4,
 "nbformat_minor": 2
}
