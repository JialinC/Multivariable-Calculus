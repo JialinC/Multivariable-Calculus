{
 "cells": [
  {
   "cell_type": "markdown",
   "metadata": {},
   "source": [
    "Example.2"
   ]
  },
  {
   "cell_type": "code",
   "execution_count": 1,
   "metadata": {},
   "outputs": [
    {
     "name": "stdout",
     "output_type": "stream",
     "text": [
      "-3*sqrt(3)/2 + 13/2\n"
     ]
    }
   ],
   "source": [
    "import sympy as sp\n",
    "import numpy as np\n",
    "from sympy.physics.vector import *\n",
    "x,y=sp.symbols(\"x y\")\n",
    "R = ReferenceFrame('R')\n",
    "field = R[0]**3 - 3*R[0]*R[1] + 4*R[1]**2\n",
    "gradient = gradient(field, R)\n",
    "v = sp.cos(sp.pi/6)*R.x + sp.sin(sp.pi/6)*R.y\n",
    "ans = gradient.dot(v)\n",
    "ans = ans.subs([[R[0],1],[R[1],2]])\n",
    "print(ans)"
   ]
  },
  {
   "cell_type": "markdown",
   "metadata": {},
   "source": [
    "Example.3"
   ]
  },
  {
   "cell_type": "code",
   "execution_count": 2,
   "metadata": {},
   "outputs": [
    {
     "name": "stdout",
     "output_type": "stream",
     "text": [
      "(R_y*exp(R_x*R_y) + cos(R_x))*R.x + R_x*exp(R_x*R_y)*R.y\n"
     ]
    }
   ],
   "source": [
    "from sympy.physics.vector import *\n",
    "R = ReferenceFrame('R')\n",
    "f = sp.sin(R[0]) + sp.exp(R[0]*R[1])\n",
    "gradient = gradient(f,R)\n",
    "print(gradient)"
   ]
  },
  {
   "cell_type": "markdown",
   "metadata": {},
   "source": [
    "Example.4"
   ]
  },
  {
   "cell_type": "code",
   "execution_count": 3,
   "metadata": {},
   "outputs": [
    {
     "name": "stdout",
     "output_type": "stream",
     "text": [
      "32*sqrt(29)/29\n"
     ]
    }
   ],
   "source": [
    "from sympy.physics.vector import *\n",
    "f = R[0]**2*R[1]**3 - 4*R[1]\n",
    "gradient = gradient(f,R)\n",
    "gradient2n1 = gradient.subs([[R[0],2],[R[1],-1]])\n",
    "v = 2*R.x + 5*R.y\n",
    "v = v.normalize()\n",
    "Dud = gradient2n1.dot(v)\n",
    "print(Dud)"
   ]
  },
  {
   "cell_type": "markdown",
   "metadata": {},
   "source": [
    "Example.5"
   ]
  },
  {
   "cell_type": "code",
   "execution_count": 4,
   "metadata": {},
   "outputs": [
    {
     "name": "stdout",
     "output_type": "stream",
     "text": [
      "-sqrt(6)/2\n"
     ]
    }
   ],
   "source": [
    "from sympy.physics.vector import *\n",
    "f = R[0]*sp.sin(R[1]*R[2])\n",
    "gradient = gradient(f,R)\n",
    "gradient130 = gradient.subs([[R[0],1],[R[1],3],[R[2],0]])\n",
    "v = 1*R.x + 2*R.y - 1*R.z\n",
    "v = v.normalize()\n",
    "Dud = gradient130.dot(v)\n",
    "print(Dud)"
   ]
  },
  {
   "cell_type": "markdown",
   "metadata": {},
   "source": [
    "Example.6"
   ]
  },
  {
   "cell_type": "code",
   "execution_count": 5,
   "metadata": {},
   "outputs": [
    {
     "name": "stdout",
     "output_type": "stream",
     "text": [
      "1.00000000000000\n",
      "sqrt(5)\n"
     ]
    }
   ],
   "source": [
    "from sympy.physics.vector import *\n",
    "f = R[0]*sp.exp(R[1])\n",
    "gradient = gradient(f,R)\n",
    "gradient = gradient.subs([[R[0],2],[R[1],0]])\n",
    "P = 2*R.x\n",
    "Q = 0.5*R.x + 2*R.y\n",
    "v = Q - P\n",
    "v = v.normalize()\n",
    "rate = gradient.dot(v)\n",
    "print(rate)\n",
    "max_direction = gradient.normalize()\n",
    "max_rate = max_direction.dot(gradient)\n",
    "print(max_rate)"
   ]
  },
  {
   "cell_type": "markdown",
   "metadata": {},
   "source": [
    "Example.7"
   ]
  },
  {
   "cell_type": "code",
   "execution_count": 6,
   "metadata": {},
   "outputs": [
    {
     "name": "stdout",
     "output_type": "stream",
     "text": [
      "- 5/8*R.x - 5/4*R.y + 15/4*R.z\n",
      "5*sqrt(41)/8\n"
     ]
    }
   ],
   "source": [
    "from sympy.physics.vector import *\n",
    "T = 80/(1 + R[0]**2 + 2*R[1]**2 + 3*R[2]**2)\n",
    "gradient = gradient(T,R)\n",
    "gradient11n2 = gradient.subs([[R[0],1],[R[1],1],[R[2],-2]])\n",
    "print(gradient11n2)\n",
    "max_direction = gradient11n2.normalize()\n",
    "max_rate = max_direction.dot(gradient11n2)\n",
    "print(max_rate)"
   ]
  },
  {
   "cell_type": "markdown",
   "metadata": {},
   "source": [
    "Example.8"
   ]
  },
  {
   "cell_type": "code",
   "execution_count": 7,
   "metadata": {},
   "outputs": [
    {
     "name": "stdout",
     "output_type": "stream",
     "text": [
      "-x + 2*y - 2*z/3 - 6\n",
      "(-t + 2)*R.x + (2*t - 1)*R.y + (-2*t/3 + 3)*R.z\n"
     ]
    }
   ],
   "source": [
    "from sympy.physics.vector import *\n",
    "t,z = sp.symbols('t z')\n",
    "f = R[0]**2/4 + R[1]**2 + R[2]**2/9 - 3\n",
    "gradient = gradient(f,R)\n",
    "normal_vector = gradient.subs([[R[0],-2],[R[1],1],[R[2],-3]])\n",
    "v = (x + 2)*R.x + (y - 1)*R.y + (z + 3)*R.z\n",
    "plane = v.dot(normal_vector)\n",
    "print(plane)\n",
    "line = 2*R.x - 1*R.y + 3*R.z + t*normal_vector\n",
    "print(line)"
   ]
  },
  {
   "cell_type": "code",
   "execution_count": null,
   "metadata": {
    "collapsed": true
   },
   "outputs": [],
   "source": []
  }
 ],
 "metadata": {
  "kernelspec": {
   "display_name": "Python 3",
   "language": "python",
   "name": "python3"
  },
  "language_info": {
   "codemirror_mode": {
    "name": "ipython",
    "version": 3
   },
   "file_extension": ".py",
   "mimetype": "text/x-python",
   "name": "python",
   "nbconvert_exporter": "python",
   "pygments_lexer": "ipython3",
   "version": "3.6.3"
  }
 },
 "nbformat": 4,
 "nbformat_minor": 2
}
