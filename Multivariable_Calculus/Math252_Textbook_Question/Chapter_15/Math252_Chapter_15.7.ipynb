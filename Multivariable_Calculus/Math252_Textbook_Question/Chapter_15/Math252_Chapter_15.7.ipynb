{
 "cells": [
  {
   "cell_type": "markdown",
   "metadata": {},
   "source": [
    "Example.1"
   ]
  },
  {
   "cell_type": "code",
   "execution_count": 1,
   "metadata": {},
   "outputs": [
    {
     "name": "stdout",
     "output_type": "stream",
     "text": [
      "27/4\n"
     ]
    }
   ],
   "source": [
    "import sympy as sp\n",
    "x,y,z = sp.symbols(\"x y z\")\n",
    "f=x*y*z**2\n",
    "result=sp.integrate(sp.integrate(f,(x,0,1)),(y,-1,2),(z,0,3))\n",
    "print(result)"
   ]
  },
  {
   "cell_type": "markdown",
   "metadata": {},
   "source": [
    "Example.2"
   ]
  },
  {
   "cell_type": "code",
   "execution_count": 2,
   "metadata": {},
   "outputs": [
    {
     "name": "stdout",
     "output_type": "stream",
     "text": [
      "1/24\n"
     ]
    }
   ],
   "source": [
    "result=sp.integrate(sp.integrate(z,(z,0,1-x-y)),(y,0,1-x),(x,0,1))\n",
    "print(result)"
   ]
  },
  {
   "cell_type": "markdown",
   "metadata": {},
   "source": [
    "Example.3"
   ]
  },
  {
   "cell_type": "code",
   "execution_count": 3,
   "metadata": {},
   "outputs": [
    {
     "name": "stdout",
     "output_type": "stream",
     "text": [
      "128*pi/15\n"
     ]
    }
   ],
   "source": [
    "r,theta = sp.symbols(\"r theta\")\n",
    "x=r*sp.cos(theta)\n",
    "z=r*sp.sin(theta)\n",
    "f=sp.sqrt(x**2+z**2)\n",
    "result=sp.integrate(f,(y,x**2+z**2,4))\n",
    "ans=sp.integrate(sp.integrate(result*r,(r,0,2)),(theta,0,2*sp.pi))\n",
    "print(ans)"
   ]
  },
  {
   "cell_type": "markdown",
   "metadata": {},
   "source": [
    "Example.5"
   ]
  },
  {
   "cell_type": "code",
   "execution_count": 4,
   "metadata": {},
   "outputs": [
    {
     "name": "stdout",
     "output_type": "stream",
     "text": [
      "1/3\n"
     ]
    }
   ],
   "source": [
    "x,y,z = sp.symbols(\"x y z\")\n",
    "z=2-x-2*y\n",
    "result=sp.integrate(sp.integrate(z,(y,x/2,1-x/2)),(x,0,1))\n",
    "print(result)"
   ]
  },
  {
   "cell_type": "markdown",
   "metadata": {},
   "source": [
    "Example.6"
   ]
  },
  {
   "cell_type": "code",
   "execution_count": 5,
   "metadata": {},
   "outputs": [
    {
     "name": "stdout",
     "output_type": "stream",
     "text": [
      "(5/7, 0, 5/14)\n"
     ]
    }
   ],
   "source": [
    "x,y,z,rho = sp.symbols(\"x y z rho\")\n",
    "m=sp.integrate(sp.integrate(sp.integrate(rho,(z,0,x)),(x,y**2,1)),(y,-1,1))\n",
    "Mxz=0\n",
    "Myz=sp.integrate(sp.integrate(sp.integrate(x*rho,(z,0,x)),(x,y**2,1)),(y,-1,1))\n",
    "Mxy=sp.integrate(sp.integrate(sp.integrate(z*rho,(z,0,x)),(x,y**2,1)),(y,-1,1))\n",
    "ans=(Myz/m,Mxz/m,Mxy/m)\n",
    "print(ans)"
   ]
  },
  {
   "cell_type": "code",
   "execution_count": null,
   "metadata": {
    "collapsed": true
   },
   "outputs": [],
   "source": []
  }
 ],
 "metadata": {
  "kernelspec": {
   "display_name": "Python 3",
   "language": "python",
   "name": "python3"
  },
  "language_info": {
   "codemirror_mode": {
    "name": "ipython",
    "version": 3
   },
   "file_extension": ".py",
   "mimetype": "text/x-python",
   "name": "python",
   "nbconvert_exporter": "python",
   "pygments_lexer": "ipython3",
   "version": "3.6.3"
  }
 },
 "nbformat": 4,
 "nbformat_minor": 2
}
