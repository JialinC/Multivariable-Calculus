{
 "cells": [
  {
   "cell_type": "markdown",
   "metadata": {},
   "source": [
    "Example.1"
   ]
  },
  {
   "cell_type": "code",
   "execution_count": 1,
   "metadata": {},
   "outputs": [
    {
     "name": "stdout",
     "output_type": "stream",
     "text": [
      "3*R.x + 2*R.y\n",
      "6*R.x + 2*R.y\n",
      "sqrt(13)\n"
     ]
    }
   ],
   "source": [
    "import sympy as sp\n",
    "from sympy.physics.vector import *\n",
    "R = ReferenceFrame('R')\n",
    "t = sp.symbols(\"t\")\n",
    "r = t**3*R.x + t**2*R.y\n",
    "v = r.diff(t,R)\n",
    "a = v.diff(t,R)\n",
    "speed = v.magnitude()\n",
    "vt1 = v.subs(t,1)\n",
    "at1 = a.subs(t,1)\n",
    "speedt1 = speed.subs(t,1)\n",
    "print(vt1)\n",
    "print(at1)\n",
    "print(speedt1)\n"
   ]
  },
  {
   "cell_type": "markdown",
   "metadata": {},
   "source": [
    "Example.2"
   ]
  },
  {
   "cell_type": "code",
   "execution_count": 2,
   "metadata": {},
   "outputs": [
    {
     "name": "stdout",
     "output_type": "stream",
     "text": [
      "2*t*R.x + exp(t)*R.y + (t + 1)*exp(t)*R.z\n",
      "2*R.x + exp(t)*R.y + (t + 2)*exp(t)*R.z\n",
      "sqrt(4*t**2 + (t + 1)**2*exp(2*t) + exp(2*t))\n"
     ]
    }
   ],
   "source": [
    "r = t**2*R.x + sp.exp(t)*R.y + t*sp.exp(t)*R.z\n",
    "v = r.diff(t,R).simplify()\n",
    "a = v.diff(t,R).simplify()\n",
    "speed = v.magnitude().simplify()\n",
    "print(v)\n",
    "print(a)\n",
    "print(speed)"
   ]
  },
  {
   "cell_type": "markdown",
   "metadata": {},
   "source": [
    "Example.3"
   ]
  },
  {
   "cell_type": "code",
   "execution_count": 3,
   "metadata": {},
   "outputs": [
    {
     "name": "stdout",
     "output_type": "stream",
     "text": [
      "(2*t**3/3 + t + 1)*R.x + (t**3 - t)*R.y + (t**2/2 + t)*R.z\n"
     ]
    }
   ],
   "source": [
    "x = 4*t\n",
    "y = 6*t\n",
    "z = 1\n",
    "intex = sp.integrate(x,t)\n",
    "intey = sp.integrate(y,t)\n",
    "intez = sp.integrate(z,t)\n",
    "\n",
    "r0 = 1*R.x\n",
    "v0 = 1*R.x - 1*R.y + 1*R.z \n",
    "vt = intex*R.x + intey*R.y + intez*R.z\n",
    "vt = vt + v0\n",
    "\n",
    "rt = sp.integrate(intex + 1,t)*R.x + sp.integrate(intey - 1,t)*R.y + sp.integrate(intez + 1,t)*R.z\n",
    "rt = rt + 1*R.x\n",
    "print(rt)"
   ]
  },
  {
   "cell_type": "markdown",
   "metadata": {},
   "source": [
    "Example.4"
   ]
  },
  {
   "cell_type": "code",
   "execution_count": 4,
   "metadata": {},
   "outputs": [
    {
     "name": "stdout",
     "output_type": "stream",
     "text": [
      "- a*m*w**2*cos(t*w)*R.x - a*m*w**2*sin(t*w)*R.y\n"
     ]
    }
   ],
   "source": [
    "a,t,w,m = sp.symbols(\"a t w m\")\n",
    "r = a*sp.cos(w*t)*R.x + a*sp.sin(w*t)*R.y\n",
    "v = r.diff(t,R)\n",
    "a = v.diff(t,R)\n",
    "F = m*a\n",
    "print(F)"
   ]
  },
  {
   "cell_type": "code",
   "execution_count": null,
   "metadata": {
    "collapsed": true
   },
   "outputs": [],
   "source": []
  }
 ],
 "metadata": {
  "kernelspec": {
   "display_name": "Python 3",
   "language": "python",
   "name": "python3"
  },
  "language_info": {
   "codemirror_mode": {
    "name": "ipython",
    "version": 3
   },
   "file_extension": ".py",
   "mimetype": "text/x-python",
   "name": "python",
   "nbconvert_exporter": "python",
   "pygments_lexer": "ipython3",
   "version": "3.6.3"
  }
 },
 "nbformat": 4,
 "nbformat_minor": 2
}
